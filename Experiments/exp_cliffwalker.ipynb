{
 "cells": [
  {
   "cell_type": "code",
   "execution_count": null,
   "metadata": {},
   "outputs": [],
   "source": [
    "from Algorithms.single_q_learning import SingleQLearning\n",
    "from Games.Cliffwalker import CliffWalkingEnv\n",
    "from Experiments.experiment import experiment\n",
    "\n"
   ]
  },
  {
   "cell_type": "code",
   "execution_count": null,
   "metadata": {},
   "outputs": [],
   "source": [
    "discrete_env = CliffWalkingEnv()\n",
    "experiment()"
   ]
  },
  {
   "cell_type": "markdown",
   "metadata": {},
   "source": []
  },
  {
   "cell_type": "code",
   "execution_count": null,
   "metadata": {},
   "outputs": [],
   "source": [
    "stochastic_env = CliffWalkingEnv(stochastic=True)"
   ]
  }
 ],
 "metadata": {
  "interpreter": {
   "hash": "5adc5aab20541bd8b5410acf2349b6e18eb9965dd50ecbb79ce0799ce072fe1a"
  },
  "kernelspec": {
   "display_name": "Python 3.7.3 64-bit ('rl-project': conda)",
   "name": "python3"
  },
  "language_info": {
   "codemirror_mode": {
    "name": "ipython",
    "version": 3
   },
   "file_extension": ".py",
   "mimetype": "text/x-python",
   "name": "python",
   "nbconvert_exporter": "python",
   "pygments_lexer": "ipython3",
   "version": "3.7.3"
  },
  "orig_nbformat": 4
 },
 "nbformat": 4,
 "nbformat_minor": 2
}

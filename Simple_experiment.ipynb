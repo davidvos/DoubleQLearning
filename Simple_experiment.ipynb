{
 "cells": [
  {
   "cell_type": "code",
   "execution_count": 161,
   "metadata": {},
   "outputs": [],
   "source": [
    "from gridworld import GridworldEnv\n",
    "from Algorithms.single_q_learning import SingleQLearning\n",
    "from Algorithms.double_q_learning import DoubleQLearning\n",
    "\n",
    "import numpy as np\n",
    "import matplotlib.pyplot as plt\n",
    "import sys\n",
    "import os\n",
    "import csv\n",
    "\n",
    "import time"
   ]
  },
  {
   "cell_type": "code",
   "execution_count": 162,
   "metadata": {},
   "outputs": [],
   "source": [
    "env = GridworldEnv()\n",
    "n = 50\n",
    "\n",
    "def running_mean(vals, n=1):\n",
    "    cumvals = np.array(vals).cumsum()\n",
    "    return (cumvals[n:] - cumvals[:-n]) / n"
   ]
  },
  {
   "cell_type": "markdown",
   "metadata": {},
   "source": [
    "List all games"
   ]
  },
  {
   "cell_type": "markdown",
   "metadata": {},
   "source": [
    "For each game, run double q and single q, over 10 random seeds and save results\n",
    "Metrics are:\n",
    "episode returns (/time)\n",
    "episode lengths (/time) ?\n"
   ]
  },
  {
   "cell_type": "code",
   "execution_count": 163,
   "metadata": {},
   "outputs": [],
   "source": [
    "def experiment(env, env_name='', save_dir='Results'):\n",
    "    # Define games and hyperparams\n",
    "    \n",
    "    # Get results for test\n",
    "    single_results, double_results = run_experiment(env)\n",
    "\n",
    "    # Save Results to csv\n",
    "    save_results(env_name, single_results, double_results, save_dir=save_dir)\n",
    "\n",
    "    # Plot results\n",
    "    plot_results(single_results, double_results)\n",
    "    \n",
    "    return\n"
   ]
  },
  {
   "cell_type": "code",
   "execution_count": 175,
   "metadata": {},
   "outputs": [],
   "source": [
    "def run_experiment(env, policy=None, seeds=None, params : dict = None, ):\n",
    "   \n",
    "    # If no seeds are provided, simply take the indices of the runs\n",
    "    if seeds is None:\n",
    "        seeds = [i for i in range(10)]\n",
    "\n",
    "    # Obtain results for each random seed\n",
    "    single_lengths = []\n",
    "    single_returns = []\n",
    "    double_lengths = []\n",
    "    double_returns = []\n",
    "    \n",
    "    for i in seeds:\n",
    "        np.random.seed(i)\n",
    "        single_result, double_result = single_run(env, params=params)\n",
    "        single_lengths.append(single_result[0])\n",
    "        single_returns.append(single_result[1])\n",
    "        double_lengths.append(double_result[0])\n",
    "        double_returns.append(double_result[1])\n",
    "        \n",
    "\n",
    "    return (single_lengths, single_returns), (double_lengths, double_returns)\n"
   ]
  },
  {
   "cell_type": "code",
   "execution_count": 180,
   "metadata": {},
   "outputs": [],
   "source": [
    "def process_results(results):\n",
    "    lengths = np.array(results[0])\n",
    "    mean_lengths, std_lengths = get_stats(lengths)\n",
    "    \n",
    "    returns = np.array(results[1])\n",
    "    mean_returns, std_returns = get_stats(lengths)\n",
    "\n",
    "    return (mean_lengths, std_lengths), (mean_returns, std_returns)\n",
    "\n",
    "\n",
    "def get_stats(data):\n",
    "    data = np.array(data)\n",
    "    mean = np.mean(data, axis=0)\n",
    "    std = np.std(data, axis=0)\n",
    "    return mean, std\n",
    "\n",
    "\n",
    "def save_results(env_name, single_results, double_results, save_dir='Results'):\n",
    "    os.makedirs(save_dir, exist_ok=True)\n",
    "    write_result(env_name, single_results[0], 'Single Lengths')\n",
    "    write_result(env_name, single_results[1], 'Single Returns')\n",
    "    write_result(env_name, double_results[0], 'Double Lengths')\n",
    "    write_result(env_name, double_results[1], 'Double Returns')\n",
    "    return\n",
    "\n",
    "\n",
    "def write_result(env_name, results, header, save_dir='Results', file_id=''):\n",
    "    file_name = env_name + '_' + header + file_id + '.csv'\n",
    "    file_path = os.path.join(save_dir, file_name)\n",
    "\n",
    "    with open(file_path, 'w') as file:\n",
    "        writer = csv.writer(file)\n",
    "        header = [header] + [i for i in range(len(results[0]))]\n",
    "        writer.writerow(header)\n",
    "\n",
    "        for j in range(len(results)):\n",
    "            row = [j] + list(results[j])\n",
    "            writer.writerow(row)\n",
    "        mean, std = get_stats(results)\n",
    "        mean_row = ['Mean'] + mean.tolist()\n",
    "        std_row = ['Std. Dev.'] + std.tolist()\n",
    "        writer.writerow(mean_row)\n",
    "        writer.writerow(std_row)\n",
    "\n",
    "    return\n"
   ]
  },
  {
   "cell_type": "markdown",
   "metadata": {},
   "source": []
  },
  {
   "cell_type": "code",
   "execution_count": 181,
   "metadata": {},
   "outputs": [],
   "source": [
    "def single_run(env, policy=None, params : dict = None):\n",
    "    if params is None:\n",
    "        params = {}\n",
    "\n",
    "    epsilon = params.setdefault('epsilon', 0.1)\n",
    "    num_episodes = params.setdefault('num_episodes', 100)\n",
    "    discount_factor = params.setdefault('discount_factor', 1)\n",
    "    alpha = params.setdefault('alpha', 0.1)\n",
    "    \n",
    "    # For a single run, obtain all metrics and return\n",
    "    single_q_vals, single_q_results = single_q(env, policy=policy, epsilon=epsilon, num_episodes=num_episodes, discount_factor=discount_factor, alpha=alpha)\n",
    "    double_q_vals, double_q_results = double_q(env, policy=policy, epsilon=epsilon, num_episodes=num_episodes, discount_factor=discount_factor, alpha=alpha)\n",
    "    return (single_q_results, double_q_results)\n",
    "\n",
    "        \n",
    "def double_q(env, policy=None, epsilon=0.1, num_episodes=1000, discount_factor=1, alpha=0.1):\n",
    "        Q_a = np.zeros((env.nS, env.nA))\n",
    "        Q_b = np.zeros((env.nS, env.nA))\n",
    "\n",
    "        if policy is None:\n",
    "            policy = DoubleQLearning.EpsilonGreedyPolicy(Q_a, Q_b, epsilon=epsilon)\n",
    "\n",
    "        Q_values, (episode_lengths, episode_returns) = \\\n",
    "            DoubleQLearning.double_q_learning(env, policy, Q_a, Q_b, num_episodes, discount_factor=discount_factor, alpha=alpha)\n",
    "        return  Q_values, (episode_lengths, episode_returns)\n",
    "\n",
    "\n",
    "def single_q(env, policy=None, epsilon=0.1, num_episodes=1000, discount_factor=1, alpha=0.1):\n",
    "        Q = np.zeros((env.nS, env.nA))\n",
    "        \n",
    "        if policy is None:\n",
    "            policy = SingleQLearning.EpsilonGreedyPolicy(Q, epsilon=epsilon)\n",
    "\n",
    "        Q_values, (episode_lengths, episode_returns) = \\\n",
    "            SingleQLearning.single_q_learning(env, policy, Q, num_episodes, discount_factor=discount_factor, alpha=alpha)\n",
    "        return Q_values, (episode_lengths, episode_returns)"
   ]
  },
  {
   "cell_type": "markdown",
   "metadata": {},
   "source": [
    "plot metrics and save figures"
   ]
  },
  {
   "cell_type": "code",
   "execution_count": 182,
   "metadata": {},
   "outputs": [],
   "source": [
    "def plot_results(single_results, double_results, file_path='Results/', file_id='', file_type='.png', save=True, show=False):\n",
    "    # A comparison of double_Q vs single_Q over all runs\n",
    "    # A comparison of the first half of single against itself and double against itself\n",
    "    # A comparison of the first half of double and single vs the second half\n",
    "\n",
    "    (mean_single_lengths, std_single_lengths), (mean_single_returns, std_single_returns) = process_results(single_results)\n",
    "    (mean_double_lengths, std_double_lengths), (mean_double_returns, std_double_returns) = process_results(double_results)\n",
    "\n",
    "    # So 3x2 plots\n",
    "    fig = plt.figure()\n",
    "    # fig.suptitle(\"Results\")\n",
    "\n",
    "    # plt.text(\"Episode Returns\")\n",
    "    # plt.text(\"Episode Lengths\")\n",
    "    # A comparison of episode returns for single_Q vs double_Q over all runs\n",
    "    fig.add_subplot(211)\n",
    "    plot_metric(\"Episode Returns\", mean_single_returns, std_single_returns, mean_double_returns, std_double_returns)\n",
    "\n",
    "    # A Comparison of episode lengths for single_Q vs double_Q over all runs\n",
    "    fig.add_subplot(212)\n",
    "    plot_metric(\"Episode Lengths\", mean_single_lengths, std_single_lengths, mean_double_lengths, std_double_lengths)\n",
    "\n",
    " \n",
    "\n",
    "    # # A comparison of the episode returns for different random seeds for single Q \n",
    "    # fig.add_subplot(323)\n",
    "    # plot_metric(single_q_returns[:half], single_q_returns[half:])\n",
    "\n",
    "    # # A comparison of the episode lengths for different random seeds for single Q\n",
    "    # fig.add_subplot(324)\n",
    "    # plot_metric(single_q_lengths[:half], single_q_lengths[half:])\n",
    "\n",
    "    # # A comparison of the episode returns for different random seeds for double Q \n",
    "    # fig.add_subplot(325)\n",
    "    # plot_metric(double_q_returns[:half], double_q_returns[half:])\n",
    "\n",
    "    # # A comparison of the episode lengths for different random seeds for double Q \n",
    "    # fig.add_subplot(326)\n",
    "    # plot_metric(double_q_lengths[:half], double_q_lengths[half:])\n",
    "    plt.show()\n",
    "    return\n",
    "\n",
    "\n",
    "def plot_metric(title, single_mean, single_std, double_mean, double_std, file_path='Results/', file_id='', file_type='.png', save=False, show=False):\n",
    "\n",
    "    plt.plot(single_mean)\n",
    "    plt.fill_between(range(len(single_mean)), single_mean - single_std, single_mean + single_std, alpha=0.3)\n",
    "    plt.plot(double_mean)\n",
    "    plt.fill_between(range(len(single_mean)), double_mean - double_std, double_mean + double_std, alpha=0.3)\n",
    "    plt.title(title)\n",
    "    plt.legend(['Single Q-Learning', \"Double Q-learning\"])\n",
    "\n",
    "    if save:\n",
    "        import os\n",
    "        os.makedirs(file_path)\n",
    "        filename = file_path + title + file_id+file_type\n",
    "        plt.savefig(filename)\n",
    "\n",
    "    if show:\n",
    "        plt.show()\n",
    "\n",
    "    return"
   ]
  },
  {
   "cell_type": "code",
   "execution_count": 183,
   "metadata": {},
   "outputs": [
    {
     "name": "stderr",
     "output_type": "stream",
     "text": [
      "100%|██████████| 100/100 [00:00<00:00, 2088.89it/s]\n"
     ]
    },
    {
     "name": "stdout",
     "output_type": "stream",
     "text": [
      "100\n"
     ]
    },
    {
     "name": "stderr",
     "output_type": "stream",
     "text": [
      "100%|██████████| 100/100 [00:00<00:00, 1453.15it/s]\n",
      "100%|██████████| 100/100 [00:00<00:00, 2785.15it/s]\n"
     ]
    },
    {
     "name": "stdout",
     "output_type": "stream",
     "text": [
      "100\n"
     ]
    },
    {
     "name": "stderr",
     "output_type": "stream",
     "text": [
      "100%|██████████| 100/100 [00:00<00:00, 1728.73it/s]\n",
      "100%|██████████| 100/100 [00:00<00:00, 2088.98it/s]\n"
     ]
    },
    {
     "name": "stdout",
     "output_type": "stream",
     "text": [
      "100\n"
     ]
    },
    {
     "name": "stderr",
     "output_type": "stream",
     "text": [
      "100%|██████████| 100/100 [00:00<00:00, 1891.73it/s]\n",
      "100%|██████████| 100/100 [00:00<00:00, 3234.45it/s]\n"
     ]
    },
    {
     "name": "stdout",
     "output_type": "stream",
     "text": [
      "100\n"
     ]
    },
    {
     "name": "stderr",
     "output_type": "stream",
     "text": [
      "100%|██████████| 100/100 [00:00<00:00, 1823.02it/s]\n",
      "100%|██████████| 100/100 [00:00<00:00, 3583.10it/s]\n"
     ]
    },
    {
     "name": "stdout",
     "output_type": "stream",
     "text": [
      "100\n"
     ]
    },
    {
     "name": "stderr",
     "output_type": "stream",
     "text": [
      "100%|██████████| 100/100 [00:00<00:00, 1928.19it/s]\n",
      "100%|██████████| 100/100 [00:00<00:00, 3457.68it/s]\n"
     ]
    },
    {
     "name": "stdout",
     "output_type": "stream",
     "text": [
      "100\n"
     ]
    },
    {
     "name": "stderr",
     "output_type": "stream",
     "text": [
      "100%|██████████| 100/100 [00:00<00:00, 2046.35it/s]\n",
      "100%|██████████| 100/100 [00:00<00:00, 3457.54it/s]\n"
     ]
    },
    {
     "name": "stdout",
     "output_type": "stream",
     "text": [
      "100\n"
     ]
    },
    {
     "name": "stderr",
     "output_type": "stream",
     "text": [
      "100%|██████████| 100/100 [00:00<00:00, 1728.53it/s]\n",
      "100%|██████████| 100/100 [00:00<00:00, 3234.35it/s]\n"
     ]
    },
    {
     "name": "stdout",
     "output_type": "stream",
     "text": [
      "100\n"
     ]
    },
    {
     "name": "stderr",
     "output_type": "stream",
     "text": [
      "100%|██████████| 100/100 [00:00<00:00, 1496.66it/s]\n",
      "100%|██████████| 100/100 [00:00<00:00, 2506.67it/s]\n"
     ]
    },
    {
     "name": "stdout",
     "output_type": "stream",
     "text": [
      "100\n"
     ]
    },
    {
     "name": "stderr",
     "output_type": "stream",
     "text": [
      "100%|██████████| 100/100 [00:00<00:00, 1699.45it/s]\n",
      "100%|██████████| 100/100 [00:00<00:00, 2133.46it/s]\n"
     ]
    },
    {
     "name": "stdout",
     "output_type": "stream",
     "text": [
      "100\n"
     ]
    },
    {
     "name": "stderr",
     "output_type": "stream",
     "text": [
      "100%|██████████| 100/100 [00:00<00:00, 1253.36it/s]\n"
     ]
    },
    {
     "data": {
      "image/png": "[encoded data removed]",
      "text/plain": [
       "<Figure size 432x288 with 2 Axes>"
      ]
     },
     "metadata": {
      "needs_background": "light"
     },
     "output_type": "display_data"
    }
   ],
   "source": [
    "env = GridworldEnv()\n",
    "env_name = \"Gridworld\"\n",
    "experiment(env, env_name=env_name)"
   ]
  },
  {
   "cell_type": "code",
   "execution_count": null,
   "metadata": {},
   "outputs": [],
   "source": []
  },
  {
   "cell_type": "code",
   "execution_count": null,
   "metadata": {},
   "outputs": [],
   "source": []
  }
 ],
 "metadata": {
  "interpreter": {
   "hash": "5adc5aab20541bd8b5410acf2349b6e18eb9965dd50ecbb79ce0799ce072fe1a"
  },
  "kernelspec": {
   "display_name": "Python 3.7.3 64-bit ('rl-project': conda)",
   "name": "python3"
  },
  "language_info": {
   "codemirror_mode": {
    "name": "ipython",
    "version": 3
   },
   "file_extension": ".py",
   "mimetype": "text/x-python",
   "name": "python",
   "nbconvert_exporter": "python",
   "pygments_lexer": "ipython3",
   "version": "3.7.3"
  },
  "orig_nbformat": 4
 },
 "nbformat": 4,
 "nbformat_minor": 2
}

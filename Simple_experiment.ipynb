{
 "cells": [
  {
   "cell_type": "code",
   "execution_count": 1,
   "metadata": {},
   "outputs": [
    {
     "name": "stderr",
     "output_type": "stream",
     "text": [
      "C:\\Users\\aukee\\miniconda3\\envs\\rl-project\\lib\\site-packages\\ale_py\\roms\\utils.py:90: DeprecationWarning: SelectableGroups dict interface is deprecated. Use select.\n",
      "  for external in metadata.entry_points().get(self.group, []):\n"
     ]
    }
   ],
   "source": [
    "from gridworld import GridworldEnv\n",
    "from Algorithms.single_q_learning import SingleQLearning\n",
    "from Algorithms.double_q_learning import DoubleQLearning\n",
    "\n",
    "from typing import List\n",
    "import numpy as np\n",
    "import matplotlib.pyplot as plt\n",
    "import sys\n",
    "import os\n",
    "import csv\n",
    "import gym\n",
    "from gym import spaces\n",
    "import time\n",
    "from tqdm import tqdm"
   ]
  },
  {
   "cell_type": "code",
   "execution_count": 2,
   "metadata": {},
   "outputs": [],
   "source": [
    "env = GridworldEnv()\n",
    "n = 50\n",
    "\n",
    "def running_mean(vals, n=1):\n",
    "    cumvals = np.array(vals).cumsum()\n",
    "    return (cumvals[n:] - cumvals[:-n]) / n"
   ]
  },
  {
   "cell_type": "markdown",
   "metadata": {},
   "source": [
    "List all games"
   ]
  },
  {
   "cell_type": "markdown",
   "metadata": {},
   "source": [
    "For each game, run double q and single q, over 10 random seeds and save results\n",
    "Metrics are:\n",
    "episode returns (/time)\n",
    "episode lengths (/time) ?\n"
   ]
  },
  {
   "cell_type": "code",
   "execution_count": 24,
   "metadata": {},
   "outputs": [],
   "source": [
    "def experiment(env_names, seeds : List[int] = None, params : dict = None, save_dir='Results'):\n",
    "    \n",
    "    for env_name in env_names:\n",
    "        print(\"Starting experiment for\", env_name)\n",
    "        env = gym.make(env_name)\n",
    "        \n",
    "        # Get results for test\n",
    "        single_results, double_results = run_experiment(env, policy=None, seeds=seeds, params=params)\n",
    "\n",
    "        # Save Results to csv\n",
    "        save_results(env_name, single_results, double_results, save_dir=save_dir)\n",
    "\n",
    "        # Plot results\n",
    "        plot_results(single_results, double_results)\n",
    "\n",
    "        #Close environment to prevent issues\n",
    "        env.close()\n",
    "        print(\"\\n\\n\")\n",
    "    \n",
    "    return\n"
   ]
  },
  {
   "cell_type": "code",
   "execution_count": 4,
   "metadata": {},
   "outputs": [],
   "source": [
    "def run_experiment(env, policy=None, seeds : List[int] = None, params : dict = None, show_episodes=False):\n",
    "   \n",
    "    # If no seeds are provided, simply take the indices of the runs\n",
    "    if seeds is None:\n",
    "        seeds = [i for i in range(10)]\n",
    "\n",
    "    # Obtain results for each random seed\n",
    "    single_lengths = []\n",
    "    single_returns = []\n",
    "    double_lengths = []\n",
    "    double_returns = []\n",
    "    \n",
    "    for i in tqdm(seeds):\n",
    "        np.random.seed(i)\n",
    "        single_result, double_result = single_run(env, policy=policy, params=params, show_episodes=show_episodes)\n",
    "        single_lengths.append(single_result[0])\n",
    "        single_returns.append(single_result[1])\n",
    "        double_lengths.append(double_result[0])\n",
    "        double_returns.append(double_result[1])\n",
    "        \n",
    "\n",
    "    return (single_lengths, single_returns), (double_lengths, double_returns)\n"
   ]
  },
  {
   "cell_type": "code",
   "execution_count": 5,
   "metadata": {},
   "outputs": [],
   "source": [
    "def process_results(results):\n",
    "    lengths = np.array(results[0])\n",
    "    mean_lengths, std_lengths = get_stats(lengths)\n",
    "    \n",
    "    returns = np.array(results[1])\n",
    "    mean_returns, std_returns = get_stats(returns)\n",
    "\n",
    "    return (mean_lengths, std_lengths), (mean_returns, std_returns)\n",
    "\n",
    "\n",
    "def get_stats(data):\n",
    "    data = np.array(data)\n",
    "    mean = np.mean(data, axis=0)\n",
    "    std = np.std(data, axis=0)\n",
    "    return mean, std\n",
    "\n",
    "\n",
    "def save_results(env_name, single_results, double_results, save_dir='Results'):\n",
    "    os.makedirs(save_dir, exist_ok=True)\n",
    "    write_result(env_name, single_results[0], 'Single Lengths')\n",
    "    write_result(env_name, single_results[1], 'Single Returns')\n",
    "    write_result(env_name, double_results[0], 'Double Lengths')\n",
    "    write_result(env_name, double_results[1], 'Double Returns')\n",
    "    return\n",
    "\n",
    "\n",
    "def write_result(env_name, results, header, save_dir='Results', file_id=''):\n",
    "    file_name = env_name + '_' + header + file_id + '.csv'\n",
    "    file_path = os.path.join(save_dir, file_name)\n",
    "\n",
    "    with open(file_path, 'w') as file:\n",
    "        writer = csv.writer(file)\n",
    "        header = [header] + [i for i in range(len(results[0]))]\n",
    "        writer.writerow(header)\n",
    "\n",
    "        for j in range(len(results)):\n",
    "            row = [j] + list(results[j])\n",
    "            writer.writerow(row)\n",
    "        mean, std = get_stats(results)\n",
    "        mean_row = ['Mean'] + mean.tolist()\n",
    "        std_row = ['Std. Dev.'] + std.tolist()\n",
    "        writer.writerow(mean_row)\n",
    "        writer.writerow(std_row)\n",
    "\n",
    "    return\n"
   ]
  },
  {
   "cell_type": "markdown",
   "metadata": {},
   "source": []
  },
  {
   "cell_type": "code",
   "execution_count": 6,
   "metadata": {},
   "outputs": [],
   "source": [
    "def single_run(env, policy=None, params : dict = None, show_episodes=False):\n",
    "    if params is None:\n",
    "        params = {}\n",
    "\n",
    "    epsilon = params.setdefault('epsilon', 0.1)\n",
    "    num_episodes = params.setdefault('num_episodes', 1000)\n",
    "    discount_factor = params.setdefault('discount_factor', 1)\n",
    "    alpha = params.setdefault('alpha', 0.1)\n",
    "    \n",
    "    # For a single run, obtain all metrics and return\n",
    "    single_q_vals, single_q_results = single_q(env, policy=policy, epsilon=epsilon, num_episodes=num_episodes, \\\n",
    "        discount_factor=discount_factor, alpha=alpha, show_episodes=show_episodes)\n",
    "    double_q_vals, double_q_results = double_q(env, policy=policy, epsilon=epsilon, num_episodes=num_episodes, \\\n",
    "        discount_factor=discount_factor, alpha=alpha, show_episodes=show_episodes)\n",
    "    return (single_q_results, double_q_results)\n",
    "\n",
    "        \n",
    "def single_q(env, policy=None, epsilon=0.1, num_episodes=1000, discount_factor=1, alpha=0.1, show_episodes=False):\n",
    "        \n",
    "    if policy is None:\n",
    "        Q = {}\n",
    "        policy = SingleQLearning.EpsilonGreedyPolicy(Q, epsilon=epsilon)\n",
    "\n",
    "    Q_values, (episode_lengths, episode_returns) = \\\n",
    "        SingleQLearning.single_q_learning(env, policy, num_episodes, Q=None,\\\n",
    "            discount_factor=discount_factor, alpha=alpha, show_episodes=show_episodes)\n",
    "    return Q_values, (episode_lengths, episode_returns)\n",
    "    \n",
    "\n",
    "def double_q(env, policy=None, epsilon=0.1, num_episodes=1000, discount_factor=1, alpha=0.1, show_episodes=False):\n",
    "\n",
    "    if policy is None:\n",
    "        Q_a = {}\n",
    "        Q_b = {}\n",
    "        policy = DoubleQLearning.EpsilonGreedyPolicy(Q_a, Q_b, epsilon=epsilon)\n",
    "\n",
    "    Q_values, (episode_lengths, episode_returns) = \\\n",
    "        DoubleQLearning.double_q_learning(env, policy, num_episodes, Q_a=None, Q_b=None,\\\n",
    "            discount_factor=discount_factor, alpha=alpha, show_episodes=show_episodes)\n",
    "    return  Q_values, (episode_lengths, episode_returns)\n"
   ]
  },
  {
   "cell_type": "code",
   "execution_count": 7,
   "metadata": {},
   "outputs": [],
   "source": [
    "def get_Q_dims(env):\n",
    "    try:\n",
    "        Q = np.zeros((env.nS, env.nA))\n",
    "\n",
    "    except AttributeError:\n",
    "        num_states = get_dims(env.observation_space)\n",
    "        num_actions = get_dims(env.action_space)\n",
    "        Q = np.zeros((*num_states, *num_actions))\n",
    "\n",
    "    return Q\n",
    "\n",
    "def get_dims(space):\n",
    "    if isinstance(space, spaces.Tuple):\n",
    "        n_dims = []\n",
    "        for subspace in space:\n",
    "            n_dims += (get_dims(subspace))\n",
    "\n",
    "    elif isinstance(space, spaces.Discrete):\n",
    "        n_dims = [space.n]\n",
    "\n",
    "    else:\n",
    "        raise TypeError(\"Space not Discrete.\")\n",
    "\n",
    "    return n_dims"
   ]
  },
  {
   "cell_type": "markdown",
   "metadata": {},
   "source": [
    "plot metrics and save figures"
   ]
  },
  {
   "cell_type": "code",
   "execution_count": 8,
   "metadata": {},
   "outputs": [],
   "source": [
    "def plot_results(single_results, double_results, file_path='Results/', file_id='', file_type='.png', save=True, show=False):\n",
    "    # A comparison of double_Q vs single_Q over all runs\n",
    "    # A comparison of the first half of single against itself and double against itself\n",
    "    # A comparison of the first half of double and single vs the second half\n",
    "\n",
    "    (mean_single_lengths, std_single_lengths), (mean_single_returns, std_single_returns) = process_results(single_results)\n",
    "    (mean_double_lengths, std_double_lengths), (mean_double_returns, std_double_returns) = process_results(double_results)\n",
    "\n",
    "    # So 3x2 plots\n",
    "    fig = plt.figure(figsize=(20, 5))\n",
    "    # fig.suptitle(\"Results\")\n",
    "\n",
    "    # plt.text(\"Episode Returns\")\n",
    "    # plt.text(\"Episode Lengths\")\n",
    "    # A comparison of episode returns for single_Q vs double_Q over all runs\n",
    "    fig.add_subplot(121)\n",
    "    plot_metric(\"Episode Returns\", mean_single_returns, std_single_returns, mean_double_returns, std_double_returns)\n",
    "\n",
    "    # A Comparison of episode lengths for single_Q vs double_Q over all runs\n",
    "    fig.add_subplot(122)\n",
    "    plot_metric(\"Episode Lengths\", mean_single_lengths, std_single_lengths, mean_double_lengths, std_double_lengths)\n",
    "\n",
    " \n",
    "\n",
    "    # # A comparison of the episode returns for different random seeds for single Q \n",
    "    # fig.add_subplot(323)\n",
    "    # plot_metric(single_q_returns[:half], single_q_returns[half:])\n",
    "\n",
    "    # # A comparison of the episode lengths for different random seeds for single Q\n",
    "    # fig.add_subplot(324)\n",
    "    # plot_metric(single_q_lengths[:half], single_q_lengths[half:])\n",
    "\n",
    "    # # A comparison of the episode returns for different random seeds for double Q \n",
    "    # fig.add_subplot(325)\n",
    "    # plot_metric(double_q_returns[:half], double_q_returns[half:])\n",
    "\n",
    "    # # A comparison of the episode lengths for different random seeds for double Q \n",
    "    # fig.add_subplot(326)\n",
    "    # plot_metric(double_q_lengths[:half], double_q_lengths[half:])\n",
    "    plt.show()\n",
    "    return\n",
    "\n",
    "\n",
    "def plot_metric(title, single_mean, single_std, double_mean, double_std, file_path='Results/', file_id='', file_type='.png', save=False, show=False):\n",
    "\n",
    "    plt.plot(single_mean)\n",
    "    plt.fill_between(range(len(single_mean)), single_mean - single_std, single_mean + single_std, alpha=0.3)\n",
    "    plt.plot(double_mean)\n",
    "    plt.fill_between(range(len(single_mean)), double_mean - double_std, double_mean + double_std, alpha=0.3)\n",
    "    plt.title(title)\n",
    "    plt.legend(['Single Q-Learning', \"Double Q-learning\"])\n",
    "\n",
    "    if save:\n",
    "        import os\n",
    "        os.makedirs(file_path)\n",
    "        filename = file_path + title + file_id+file_type\n",
    "        plt.savefig(filename)\n",
    "\n",
    "    if show:\n",
    "        plt.show()\n",
    "\n",
    "    return"
   ]
  },
  {
   "cell_type": "code",
   "execution_count": 25,
   "metadata": {},
   "outputs": [],
   "source": [
    "toy_seeds = None #Defaults to [0-9]\n",
    "\n",
    "toy_params = {\n",
    "'epsilon': 0.1, #Defaults to  0.1\n",
    "'num_episodes': 1000, #Defaults to 1000\n",
    "'discount_factor': 1.0, #Defaults to 1.0\n",
    "'alpha': 0.1 #Defaults to 0.1\n",
    "}\n",
    "\n",
    "toy_text = ['CliffWalking-v0', 'Blackjack-v1', 'FrozenLake-v1', 'FrozenLake8x8-v1', 'Taxi-v3']\n",
    "\n",
    "\n"
   ]
  },
  {
   "cell_type": "code",
   "execution_count": 26,
   "metadata": {},
   "outputs": [
    {
     "name": "stdout",
     "output_type": "stream",
     "text": [
      "Starting experiment for CliffWalking-v0\n"
     ]
    },
    {
     "name": "stderr",
     "output_type": "stream",
     "text": [
      "\n",
      "  0%|          | 0/10 [00:00<?, ?it/s]"
     ]
    },
    {
     "ename": "KeyboardInterrupt",
     "evalue": "",
     "output_type": "error",
     "traceback": [
      "\u001b[1;31m---------------------------------------------------------------------------\u001b[0m",
      "\u001b[1;31mKeyboardInterrupt\u001b[0m                         Traceback (most recent call last)",
      "\u001b[1;32m~\\AppData\\Local\\Temp/ipykernel_7308/2372067106.py\u001b[0m in \u001b[0;36m<module>\u001b[1;34m\u001b[0m\n\u001b[1;32m----> 1\u001b[1;33m \u001b[0mexperiment\u001b[0m\u001b[1;33m(\u001b[0m\u001b[0mtoy_text\u001b[0m\u001b[1;33m,\u001b[0m \u001b[0mtoy_seeds\u001b[0m\u001b[1;33m,\u001b[0m \u001b[0mtoy_params\u001b[0m\u001b[1;33m)\u001b[0m\u001b[1;33m\u001b[0m\u001b[1;33m\u001b[0m\u001b[0m\n\u001b[0m",
      "\u001b[1;32m~\\AppData\\Local\\Temp/ipykernel_7308/2515124725.py\u001b[0m in \u001b[0;36mexperiment\u001b[1;34m(env_names, seeds, params, save_dir)\u001b[0m\n\u001b[0;32m      6\u001b[0m \u001b[1;33m\u001b[0m\u001b[0m\n\u001b[0;32m      7\u001b[0m         \u001b[1;31m# Get results for test\u001b[0m\u001b[1;33m\u001b[0m\u001b[1;33m\u001b[0m\u001b[1;33m\u001b[0m\u001b[0m\n\u001b[1;32m----> 8\u001b[1;33m         \u001b[0msingle_results\u001b[0m\u001b[1;33m,\u001b[0m \u001b[0mdouble_results\u001b[0m \u001b[1;33m=\u001b[0m \u001b[0mrun_experiment\u001b[0m\u001b[1;33m(\u001b[0m\u001b[0menv\u001b[0m\u001b[1;33m,\u001b[0m \u001b[0mpolicy\u001b[0m\u001b[1;33m=\u001b[0m\u001b[1;32mNone\u001b[0m\u001b[1;33m,\u001b[0m \u001b[0mseeds\u001b[0m\u001b[1;33m=\u001b[0m\u001b[0mseeds\u001b[0m\u001b[1;33m,\u001b[0m \u001b[0mparams\u001b[0m\u001b[1;33m=\u001b[0m\u001b[0mparams\u001b[0m\u001b[1;33m)\u001b[0m\u001b[1;33m\u001b[0m\u001b[1;33m\u001b[0m\u001b[0m\n\u001b[0m\u001b[0;32m      9\u001b[0m \u001b[1;33m\u001b[0m\u001b[0m\n\u001b[0;32m     10\u001b[0m         \u001b[1;31m# Save Results to csv\u001b[0m\u001b[1;33m\u001b[0m\u001b[1;33m\u001b[0m\u001b[1;33m\u001b[0m\u001b[0m\n",
      "\u001b[1;32m~\\AppData\\Local\\Temp/ipykernel_7308/330644011.py\u001b[0m in \u001b[0;36mrun_experiment\u001b[1;34m(env, policy, seeds, params, show_episodes)\u001b[0m\n\u001b[0;32m     13\u001b[0m     \u001b[1;32mfor\u001b[0m \u001b[0mi\u001b[0m \u001b[1;32min\u001b[0m \u001b[0mtqdm\u001b[0m\u001b[1;33m(\u001b[0m\u001b[0mseeds\u001b[0m\u001b[1;33m)\u001b[0m\u001b[1;33m:\u001b[0m\u001b[1;33m\u001b[0m\u001b[1;33m\u001b[0m\u001b[0m\n\u001b[0;32m     14\u001b[0m         \u001b[0mnp\u001b[0m\u001b[1;33m.\u001b[0m\u001b[0mrandom\u001b[0m\u001b[1;33m.\u001b[0m\u001b[0mseed\u001b[0m\u001b[1;33m(\u001b[0m\u001b[0mi\u001b[0m\u001b[1;33m)\u001b[0m\u001b[1;33m\u001b[0m\u001b[1;33m\u001b[0m\u001b[0m\n\u001b[1;32m---> 15\u001b[1;33m         \u001b[0msingle_result\u001b[0m\u001b[1;33m,\u001b[0m \u001b[0mdouble_result\u001b[0m \u001b[1;33m=\u001b[0m \u001b[0msingle_run\u001b[0m\u001b[1;33m(\u001b[0m\u001b[0menv\u001b[0m\u001b[1;33m,\u001b[0m \u001b[0mpolicy\u001b[0m\u001b[1;33m=\u001b[0m\u001b[0mpolicy\u001b[0m\u001b[1;33m,\u001b[0m \u001b[0mparams\u001b[0m\u001b[1;33m=\u001b[0m\u001b[0mparams\u001b[0m\u001b[1;33m,\u001b[0m \u001b[0mshow_episodes\u001b[0m\u001b[1;33m=\u001b[0m\u001b[0mshow_episodes\u001b[0m\u001b[1;33m)\u001b[0m\u001b[1;33m\u001b[0m\u001b[1;33m\u001b[0m\u001b[0m\n\u001b[0m\u001b[0;32m     16\u001b[0m         \u001b[0msingle_lengths\u001b[0m\u001b[1;33m.\u001b[0m\u001b[0mappend\u001b[0m\u001b[1;33m(\u001b[0m\u001b[0msingle_result\u001b[0m\u001b[1;33m[\u001b[0m\u001b[1;36m0\u001b[0m\u001b[1;33m]\u001b[0m\u001b[1;33m)\u001b[0m\u001b[1;33m\u001b[0m\u001b[1;33m\u001b[0m\u001b[0m\n\u001b[0;32m     17\u001b[0m         \u001b[0msingle_returns\u001b[0m\u001b[1;33m.\u001b[0m\u001b[0mappend\u001b[0m\u001b[1;33m(\u001b[0m\u001b[0msingle_result\u001b[0m\u001b[1;33m[\u001b[0m\u001b[1;36m1\u001b[0m\u001b[1;33m]\u001b[0m\u001b[1;33m)\u001b[0m\u001b[1;33m\u001b[0m\u001b[1;33m\u001b[0m\u001b[0m\n",
      "\u001b[1;32m~\\AppData\\Local\\Temp/ipykernel_7308/646236478.py\u001b[0m in \u001b[0;36msingle_run\u001b[1;34m(env, policy, params, show_episodes)\u001b[0m\n\u001b[0;32m     10\u001b[0m     \u001b[1;31m# For a single run, obtain all metrics and return\u001b[0m\u001b[1;33m\u001b[0m\u001b[1;33m\u001b[0m\u001b[1;33m\u001b[0m\u001b[0m\n\u001b[0;32m     11\u001b[0m     single_q_vals, single_q_results = single_q(env, policy=policy, epsilon=epsilon, num_episodes=num_episodes, \\\n\u001b[1;32m---> 12\u001b[1;33m         discount_factor=discount_factor, alpha=alpha, show_episodes=show_episodes)\n\u001b[0m\u001b[0;32m     13\u001b[0m     double_q_vals, double_q_results = double_q(env, policy=policy, epsilon=epsilon, num_episodes=num_episodes, \\\n\u001b[0;32m     14\u001b[0m         discount_factor=discount_factor, alpha=alpha, show_episodes=show_episodes)\n",
      "\u001b[1;32m~\\AppData\\Local\\Temp/ipykernel_7308/646236478.py\u001b[0m in \u001b[0;36msingle_q\u001b[1;34m(env, policy, epsilon, num_episodes, discount_factor, alpha, show_episodes)\u001b[0m\n\u001b[0;32m     24\u001b[0m     \u001b[0mQ_values\u001b[0m\u001b[1;33m,\u001b[0m \u001b[1;33m(\u001b[0m\u001b[0mepisode_lengths\u001b[0m\u001b[1;33m,\u001b[0m \u001b[0mepisode_returns\u001b[0m\u001b[1;33m)\u001b[0m \u001b[1;33m=\u001b[0m\u001b[0;31m \u001b[0m\u001b[0;31m\\\u001b[0m\u001b[1;33m\u001b[0m\u001b[1;33m\u001b[0m\u001b[0m\n\u001b[0;32m     25\u001b[0m         SingleQLearning.single_q_learning(env, policy, num_episodes, Q=None,\\\n\u001b[1;32m---> 26\u001b[1;33m             discount_factor=discount_factor, alpha=alpha, show_episodes=show_episodes)\n\u001b[0m\u001b[0;32m     27\u001b[0m     \u001b[1;32mreturn\u001b[0m \u001b[0mQ_values\u001b[0m\u001b[1;33m,\u001b[0m \u001b[1;33m(\u001b[0m\u001b[0mepisode_lengths\u001b[0m\u001b[1;33m,\u001b[0m \u001b[0mepisode_returns\u001b[0m\u001b[1;33m)\u001b[0m\u001b[1;33m\u001b[0m\u001b[1;33m\u001b[0m\u001b[0m\n\u001b[0;32m     28\u001b[0m \u001b[1;33m\u001b[0m\u001b[0m\n",
      "\u001b[1;32mc:\\Users\\aukee\\OneDrive\\GitHub\\DoubleQLearning\\Algorithms\\single_q_learning.py\u001b[0m in \u001b[0;36msingle_q_learning\u001b[1;34m(env, policy, num_episodes, Q, discount_factor, alpha, show_episodes)\u001b[0m\n\u001b[0;32m     83\u001b[0m             \u001b[1;32mwhile\u001b[0m \u001b[1;32mTrue\u001b[0m\u001b[1;33m:\u001b[0m\u001b[1;33m\u001b[0m\u001b[1;33m\u001b[0m\u001b[0m\n\u001b[0;32m     84\u001b[0m \u001b[1;33m\u001b[0m\u001b[0m\n\u001b[1;32m---> 85\u001b[1;33m                 \u001b[0maction\u001b[0m \u001b[1;33m=\u001b[0m \u001b[0mpolicy\u001b[0m\u001b[1;33m.\u001b[0m\u001b[0msample_action\u001b[0m\u001b[1;33m(\u001b[0m\u001b[0mstate\u001b[0m\u001b[1;33m)\u001b[0m\u001b[1;33m\u001b[0m\u001b[1;33m\u001b[0m\u001b[0m\n\u001b[0m\u001b[0;32m     86\u001b[0m \u001b[1;33m\u001b[0m\u001b[0m\n\u001b[0;32m     87\u001b[0m                 \u001b[0mtransition\u001b[0m \u001b[1;33m=\u001b[0m \u001b[0menv\u001b[0m\u001b[1;33m.\u001b[0m\u001b[0mstep\u001b[0m\u001b[1;33m(\u001b[0m\u001b[0maction\u001b[0m\u001b[1;33m)\u001b[0m\u001b[1;33m\u001b[0m\u001b[1;33m\u001b[0m\u001b[0m\n",
      "\u001b[1;32mc:\\Users\\aukee\\OneDrive\\GitHub\\DoubleQLearning\\Algorithms\\single_q_learning.py\u001b[0m in \u001b[0;36msample_action\u001b[1;34m(self, obs)\u001b[0m\n\u001b[0;32m     36\u001b[0m                 \u001b[0maction\u001b[0m \u001b[1;33m=\u001b[0m \u001b[0mnp\u001b[0m\u001b[1;33m.\u001b[0m\u001b[0mrandom\u001b[0m\u001b[1;33m.\u001b[0m\u001b[0mrandint\u001b[0m\u001b[1;33m(\u001b[0m\u001b[1;36m0\u001b[0m\u001b[1;33m,\u001b[0m \u001b[0mlen\u001b[0m\u001b[1;33m(\u001b[0m\u001b[0maction_values\u001b[0m\u001b[1;33m)\u001b[0m\u001b[1;33m)\u001b[0m\u001b[1;33m\u001b[0m\u001b[1;33m\u001b[0m\u001b[0m\n\u001b[0;32m     37\u001b[0m             \u001b[1;32melse\u001b[0m\u001b[1;33m:\u001b[0m\u001b[1;33m\u001b[0m\u001b[1;33m\u001b[0m\u001b[0m\n\u001b[1;32m---> 38\u001b[1;33m                 \u001b[0maction\u001b[0m \u001b[1;33m=\u001b[0m \u001b[0mnp\u001b[0m\u001b[1;33m.\u001b[0m\u001b[0margmax\u001b[0m\u001b[1;33m(\u001b[0m\u001b[0maction_values\u001b[0m\u001b[1;33m)\u001b[0m\u001b[1;33m\u001b[0m\u001b[1;33m\u001b[0m\u001b[0m\n\u001b[0m\u001b[0;32m     39\u001b[0m \u001b[1;33m\u001b[0m\u001b[0m\n\u001b[0;32m     40\u001b[0m             \u001b[1;32mreturn\u001b[0m \u001b[0maction\u001b[0m\u001b[1;33m\u001b[0m\u001b[1;33m\u001b[0m\u001b[0m\n",
      "\u001b[1;32m<__array_function__ internals>\u001b[0m in \u001b[0;36margmax\u001b[1;34m(*args, **kwargs)\u001b[0m\n",
      "\u001b[1;32m~\\miniconda3\\envs\\rl-project\\lib\\site-packages\\numpy\\core\\fromnumeric.py\u001b[0m in \u001b[0;36margmax\u001b[1;34m(a, axis, out)\u001b[0m\n\u001b[0;32m   1186\u001b[0m \u001b[1;33m\u001b[0m\u001b[0m\n\u001b[0;32m   1187\u001b[0m     \"\"\"\n\u001b[1;32m-> 1188\u001b[1;33m     \u001b[1;32mreturn\u001b[0m \u001b[0m_wrapfunc\u001b[0m\u001b[1;33m(\u001b[0m\u001b[0ma\u001b[0m\u001b[1;33m,\u001b[0m \u001b[1;34m'argmax'\u001b[0m\u001b[1;33m,\u001b[0m \u001b[0maxis\u001b[0m\u001b[1;33m=\u001b[0m\u001b[0maxis\u001b[0m\u001b[1;33m,\u001b[0m \u001b[0mout\u001b[0m\u001b[1;33m=\u001b[0m\u001b[0mout\u001b[0m\u001b[1;33m)\u001b[0m\u001b[1;33m\u001b[0m\u001b[1;33m\u001b[0m\u001b[0m\n\u001b[0m\u001b[0;32m   1189\u001b[0m \u001b[1;33m\u001b[0m\u001b[0m\n\u001b[0;32m   1190\u001b[0m \u001b[1;33m\u001b[0m\u001b[0m\n",
      "\u001b[1;32m~\\miniconda3\\envs\\rl-project\\lib\\site-packages\\numpy\\core\\fromnumeric.py\u001b[0m in \u001b[0;36m_wrapfunc\u001b[1;34m(obj, method, *args, **kwds)\u001b[0m\n\u001b[0;32m     56\u001b[0m \u001b[1;33m\u001b[0m\u001b[0m\n\u001b[0;32m     57\u001b[0m     \u001b[1;32mtry\u001b[0m\u001b[1;33m:\u001b[0m\u001b[1;33m\u001b[0m\u001b[1;33m\u001b[0m\u001b[0m\n\u001b[1;32m---> 58\u001b[1;33m         \u001b[1;32mreturn\u001b[0m \u001b[0mbound\u001b[0m\u001b[1;33m(\u001b[0m\u001b[1;33m*\u001b[0m\u001b[0margs\u001b[0m\u001b[1;33m,\u001b[0m \u001b[1;33m**\u001b[0m\u001b[0mkwds\u001b[0m\u001b[1;33m)\u001b[0m\u001b[1;33m\u001b[0m\u001b[1;33m\u001b[0m\u001b[0m\n\u001b[0m\u001b[0;32m     59\u001b[0m     \u001b[1;32mexcept\u001b[0m \u001b[0mTypeError\u001b[0m\u001b[1;33m:\u001b[0m\u001b[1;33m\u001b[0m\u001b[1;33m\u001b[0m\u001b[0m\n\u001b[0;32m     60\u001b[0m         \u001b[1;31m# A TypeError occurs if the object does have such a method in its\u001b[0m\u001b[1;33m\u001b[0m\u001b[1;33m\u001b[0m\u001b[1;33m\u001b[0m\u001b[0m\n",
      "\u001b[1;31mKeyboardInterrupt\u001b[0m: "
     ]
    }
   ],
   "source": [
    "experiment(toy_text, toy_seeds, toy_params)"
   ]
  },
  {
   "cell_type": "code",
   "execution_count": null,
   "metadata": {},
   "outputs": [],
   "source": [
    "control_seeds = None #Defaults to [0-9]\n",
    "\n",
    "control_params = {\n",
    "'epsilon': 0.1, #Defaults to 0.1\n",
    "'num_episodes': 1000, #Defaults to 1000\n",
    "'discount_factor':1.0, #Defaults to 1.0\n",
    "'alpha': 0.1 #Defaults to 0.1\n",
    "}\n",
    "\n",
    "continuous_control = ['Acrobot-v1', 'CartPole-v1', 'Pendulum-v1', 'MountainCar-v0', 'MountainCarContinuous-v0']\n",
    "\n"
   ]
  },
  {
   "cell_type": "code",
   "execution_count": 27,
   "metadata": {},
   "outputs": [],
   "source": [
    "# def get_num_actions(env):\n",
    "#     from gym.envs.toy_text.discrete import DiscreteEnv  \n",
    "#     from gym import spaces\n",
    "\n",
    "#     if isinstance(env, DiscreteEnv):\n",
    "#         num_actions = env.nA\n",
    "\n",
    "#     elif isinstance(env.action_space, spaces.Discrete):\n",
    "#         num_actions = env.action_space.n\n",
    "\n",
    "#     elif isinstance(env.action_space, spaces.Box):\n",
    "#         num_actions = -1\n",
    "\n",
    "#     return num_actions\n",
    "\n",
    "\n",
    "# def discretize_space(space : spaces.Box):\n",
    "#     low = space.low\n",
    "#     high = space.high\n"
   ]
  },
  {
   "cell_type": "code",
   "execution_count": null,
   "metadata": {},
   "outputs": [],
   "source": [
    "# experiment(continuous_control, control_seeds, control_params)"
   ]
  },
  {
   "cell_type": "markdown",
   "metadata": {},
   "source": [
    "FROZEN LAKE\n",
    "\n",
    "Winter is here. You and your friends were tossing around a frisbee at the\n",
    "park when you made a wild throw that left the frisbee out in the middle of\n",
    "the lake. The water is mostly frozen, but there are a few holes where the\n",
    "ice has melted. If you step into one of those holes, you'll fall into the\n",
    "freezing water. At this time, there's an international frisbee shortage, so\n",
    "it's absolutely imperative that you navigate across the lake and retrieve\n",
    "the disc. However, the ice is slippery, so you won't always move in the\n",
    "direction you intend.\n",
    "The surface is described using a grid like the following\n",
    "    SFFF\n",
    "    FHFH\n",
    "    FFFH\n",
    "    HFFG\n",
    "S : starting point, safe\n",
    "F : frozen surface, safe\n",
    "H : hole, fall to your doom\n",
    "G : goal, where the frisbee is located\n",
    "The episode ends when you reach the goal or fall in a hole.\n",
    "You receive a reward of 1 if you reach the goal, and zero otherwise.\n",
    "\n",
    "The basic grid is 4x4, the larger version is 8x8.\n",
    "\"\"\""
   ]
  },
  {
   "cell_type": "markdown",
   "metadata": {},
   "source": [
    "CLIFFWORLD\n",
    "\n",
    "This is a simple implementation of the Gridworld Cliff\n",
    "    reinforcement learning task.\n",
    "    Adapted from Example 6.6 (page 106) from Reinforcement Learning: An Introduction\n",
    "    by Sutton and Barto:\n",
    "    http://incompleteideas.net/book/bookdraft2018jan1.pdf\n",
    "    With inspiration from:\n",
    "    https://github.com/dennybritz/reinforcement-learning/blob/master/lib/envs/cliff_walking.py\n",
    "    The board is a 4x12 matrix, with (using NumPy matrix indexing):\n",
    "        [3, 0] as the start at bottom-left\n",
    "        [3, 11] as the goal at bottom-right\n",
    "        [3, 1..10] as the cliff at bottom-center\n",
    "    Each time step incurs -1 reward, and stepping into the cliff incurs -100 reward\n",
    "    and a reset to the start. An episode terminates when the agent reaches the goal.\n",
    "    \"\"\"\n",
    "\n"
   ]
  },
  {
   "cell_type": "markdown",
   "metadata": {},
   "source": [
    "SIMPLE BLACKJACK ENVIRONMENT\n",
    "\n",
    "Blackjack is a card game where the goal is to obtain cards that sum to as\n",
    "near as possible to 21 without going over.  They're playing against a fixed\n",
    "dealer.\n",
    "Face cards (Jack, Queen, King) have point value 10.\n",
    "Aces can either count as 11 or 1, and it's called 'usable' at 11.\n",
    "This game is placed with an infinite deck (or with replacement).\n",
    "The game starts with dealer having one face up and one face down card, while\n",
    "player having two face up cards. (Virtually for all Blackjack games today).\n",
    "The player can request additional cards (hit=1) until they decide to stop\n",
    "(stick=0) or exceed 21 (bust).\n",
    "After the player sticks, the dealer reveals their facedown card, and draws\n",
    "until their sum is 17 or greater.  If the dealer goes bust the player wins.\n",
    "If neither player nor dealer busts, the outcome (win, lose, draw) is\n",
    "decided by whose sum is closer to 21.  The reward for winning is +1,\n",
    "drawing is 0, and losing is -1.\n",
    "The observation of a 3-tuple of: the players current sum,\n",
    "the dealer's one showing card (1-10 where 1 is ace),\n",
    "and whether or not the player holds a usable ace (0 or 1).\n",
    "This environment corresponds to the version of the blackjack problem\n",
    "described in Example 5.1 in Reinforcement Learning: An Introduction\n",
    "by Sutton and Barto.\n",
    "http://incompleteideas.net/book/the-book-2nd.html\n",
    "\"\"\""
   ]
  },
  {
   "cell_type": "markdown",
   "metadata": {},
   "source": [
    "  THE TAXI PROBLEM\n",
    "\n",
    "from \"Hierarchical Reinforcement Learning with the MAXQ Value Function Decomposition\"\n",
    "by Tom Dietterich\n",
    "Description:\n",
    "There are four designated locations in the grid world indicated by R(ed), G(reen), Y(ellow), and B(lue). When the episode starts, the taxi starts off at a random square and the passenger is at a random location. The taxi drives to the passenger's location, picks up the passenger, drives to the passenger's destination (another one of the four specified locations), and then drops off the passenger. Once the passenger is dropped off, the episode ends.\n",
    "Observations:\n",
    "There are 500 discrete states since there are 25 taxi positions, 5 possible locations of the passenger (including the case when the passenger is in the taxi), and 4 destination locations.\n",
    "Note that there are 400 states that can actually be reached during an episode. The missing states correspond to situations in which the passenger is at the same location as their destination, as this typically signals the end of an episode.\n",
    "Four additional states can be observed right after a successful episodes, when both the passenger and the taxi are at the destination.\n",
    "This gives a total of 404 reachable discrete states.\n",
    "Passenger locations:\n",
    "- 0: R(ed)\n",
    "- 1: G(reen)\n",
    "- 2: Y(ellow)\n",
    "- 3: B(lue)\n",
    "- 4: in taxi\n",
    "Destinations:\n",
    "- 0: R(ed)\n",
    "- 1: G(reen)\n",
    "- 2: Y(ellow)\n",
    "- 3: B(lue)\n",
    "Actions:\n",
    "There are 6 discrete deterministic actions:\n",
    "- 0: move south\n",
    "- 1: move north\n",
    "- 2: move east\n",
    "- 3: move west\n",
    "- 4: pickup passenger\n",
    "- 5: drop off passenger\n",
    "\n",
    "\n",
    "Rewards:\n",
    "There is a default per-step reward of -1,\n",
    "except for delivering the passenger, which is +20,\n",
    "or executing \"pickup\" and \"drop-off\" actions illegally, which is -10.\n",
    "Rendering:\n",
    "- blue: passenger\n",
    "- magenta: destination\n",
    "- yellow: empty taxi\n",
    "- green: full taxi\n",
    "- other letters (R, G, Y and B): locations for passengers and destinations\n",
    "state space is represented by:\n",
    "    (taxi_row, taxi_col, passenger_location, destination)\n",
    "\"\"\""
   ]
  },
  {
   "cell_type": "markdown",
   "metadata": {},
   "source": [
    "To find all envs, just use "
   ]
  },
  {
   "cell_type": "code",
   "execution_count": 11,
   "metadata": {},
   "outputs": [
    {
     "name": "stdout",
     "output_type": "stream",
     "text": [
      "dict_values([EnvSpec(ALE/Tetris-v5), EnvSpec(ALE/Tetris-ram-v5), EnvSpec(Adventure-v0), EnvSpec(AdventureDeterministic-v0), EnvSpec(AdventureNoFrameskip-v0), EnvSpec(Adventure-v4), EnvSpec(AdventureDeterministic-v4), EnvSpec(AdventureNoFrameskip-v4), EnvSpec(Adventure-ram-v0), EnvSpec(Adventure-ramDeterministic-v0), EnvSpec(Adventure-ramNoFrameskip-v0), EnvSpec(Adventure-ram-v4), EnvSpec(Adventure-ramDeterministic-v4), EnvSpec(Adventure-ramNoFrameskip-v4), EnvSpec(AirRaid-v0), EnvSpec(AirRaidDeterministic-v0), EnvSpec(AirRaidNoFrameskip-v0), EnvSpec(AirRaid-v4), EnvSpec(AirRaidDeterministic-v4), EnvSpec(AirRaidNoFrameskip-v4), EnvSpec(AirRaid-ram-v0), EnvSpec(AirRaid-ramDeterministic-v0), EnvSpec(AirRaid-ramNoFrameskip-v0), EnvSpec(AirRaid-ram-v4), EnvSpec(AirRaid-ramDeterministic-v4), EnvSpec(AirRaid-ramNoFrameskip-v4), EnvSpec(Alien-v0), EnvSpec(AlienDeterministic-v0), EnvSpec(AlienNoFrameskip-v0), EnvSpec(Alien-v4), EnvSpec(AlienDeterministic-v4), EnvSpec(AlienNoFrameskip-v4), EnvSpec(Alien-ram-v0), EnvSpec(Alien-ramDeterministic-v0), EnvSpec(Alien-ramNoFrameskip-v0), EnvSpec(Alien-ram-v4), EnvSpec(Alien-ramDeterministic-v4), EnvSpec(Alien-ramNoFrameskip-v4), EnvSpec(Amidar-v0), EnvSpec(AmidarDeterministic-v0), EnvSpec(AmidarNoFrameskip-v0), EnvSpec(Amidar-v4), EnvSpec(AmidarDeterministic-v4), EnvSpec(AmidarNoFrameskip-v4), EnvSpec(Amidar-ram-v0), EnvSpec(Amidar-ramDeterministic-v0), EnvSpec(Amidar-ramNoFrameskip-v0), EnvSpec(Amidar-ram-v4), EnvSpec(Amidar-ramDeterministic-v4), EnvSpec(Amidar-ramNoFrameskip-v4), EnvSpec(Assault-v0), EnvSpec(AssaultDeterministic-v0), EnvSpec(AssaultNoFrameskip-v0), EnvSpec(Assault-v4), EnvSpec(AssaultDeterministic-v4), EnvSpec(AssaultNoFrameskip-v4), EnvSpec(Assault-ram-v0), EnvSpec(Assault-ramDeterministic-v0), EnvSpec(Assault-ramNoFrameskip-v0), EnvSpec(Assault-ram-v4), EnvSpec(Assault-ramDeterministic-v4), EnvSpec(Assault-ramNoFrameskip-v4), EnvSpec(Asterix-v0), EnvSpec(AsterixDeterministic-v0), EnvSpec(AsterixNoFrameskip-v0), EnvSpec(Asterix-v4), EnvSpec(AsterixDeterministic-v4), EnvSpec(AsterixNoFrameskip-v4), EnvSpec(Asterix-ram-v0), EnvSpec(Asterix-ramDeterministic-v0), EnvSpec(Asterix-ramNoFrameskip-v0), EnvSpec(Asterix-ram-v4), EnvSpec(Asterix-ramDeterministic-v4), EnvSpec(Asterix-ramNoFrameskip-v4), EnvSpec(Asteroids-v0), EnvSpec(AsteroidsDeterministic-v0), EnvSpec(AsteroidsNoFrameskip-v0), EnvSpec(Asteroids-v4), EnvSpec(AsteroidsDeterministic-v4), EnvSpec(AsteroidsNoFrameskip-v4), EnvSpec(Asteroids-ram-v0), EnvSpec(Asteroids-ramDeterministic-v0), EnvSpec(Asteroids-ramNoFrameskip-v0), EnvSpec(Asteroids-ram-v4), EnvSpec(Asteroids-ramDeterministic-v4), EnvSpec(Asteroids-ramNoFrameskip-v4), EnvSpec(Atlantis-v0), EnvSpec(AtlantisDeterministic-v0), EnvSpec(AtlantisNoFrameskip-v0), EnvSpec(Atlantis-v4), EnvSpec(AtlantisDeterministic-v4), EnvSpec(AtlantisNoFrameskip-v4), EnvSpec(Atlantis-ram-v0), EnvSpec(Atlantis-ramDeterministic-v0), EnvSpec(Atlantis-ramNoFrameskip-v0), EnvSpec(Atlantis-ram-v4), EnvSpec(Atlantis-ramDeterministic-v4), EnvSpec(Atlantis-ramNoFrameskip-v4), EnvSpec(BankHeist-v0), EnvSpec(BankHeistDeterministic-v0), EnvSpec(BankHeistNoFrameskip-v0), EnvSpec(BankHeist-v4), EnvSpec(BankHeistDeterministic-v4), EnvSpec(BankHeistNoFrameskip-v4), EnvSpec(BankHeist-ram-v0), EnvSpec(BankHeist-ramDeterministic-v0), EnvSpec(BankHeist-ramNoFrameskip-v0), EnvSpec(BankHeist-ram-v4), EnvSpec(BankHeist-ramDeterministic-v4), EnvSpec(BankHeist-ramNoFrameskip-v4), EnvSpec(BattleZone-v0), EnvSpec(BattleZoneDeterministic-v0), EnvSpec(BattleZoneNoFrameskip-v0), EnvSpec(BattleZone-v4), EnvSpec(BattleZoneDeterministic-v4), EnvSpec(BattleZoneNoFrameskip-v4), EnvSpec(BattleZone-ram-v0), EnvSpec(BattleZone-ramDeterministic-v0), EnvSpec(BattleZone-ramNoFrameskip-v0), EnvSpec(BattleZone-ram-v4), EnvSpec(BattleZone-ramDeterministic-v4), EnvSpec(BattleZone-ramNoFrameskip-v4), EnvSpec(BeamRider-v0), EnvSpec(BeamRiderDeterministic-v0), EnvSpec(BeamRiderNoFrameskip-v0), EnvSpec(BeamRider-v4), EnvSpec(BeamRiderDeterministic-v4), EnvSpec(BeamRiderNoFrameskip-v4), EnvSpec(BeamRider-ram-v0), EnvSpec(BeamRider-ramDeterministic-v0), EnvSpec(BeamRider-ramNoFrameskip-v0), EnvSpec(BeamRider-ram-v4), EnvSpec(BeamRider-ramDeterministic-v4), EnvSpec(BeamRider-ramNoFrameskip-v4), EnvSpec(Berzerk-v0), EnvSpec(BerzerkDeterministic-v0), EnvSpec(BerzerkNoFrameskip-v0), EnvSpec(Berzerk-v4), EnvSpec(BerzerkDeterministic-v4), EnvSpec(BerzerkNoFrameskip-v4), EnvSpec(Berzerk-ram-v0), EnvSpec(Berzerk-ramDeterministic-v0), EnvSpec(Berzerk-ramNoFrameskip-v0), EnvSpec(Berzerk-ram-v4), EnvSpec(Berzerk-ramDeterministic-v4), EnvSpec(Berzerk-ramNoFrameskip-v4), EnvSpec(Bowling-v0), EnvSpec(BowlingDeterministic-v0), EnvSpec(BowlingNoFrameskip-v0), EnvSpec(Bowling-v4), EnvSpec(BowlingDeterministic-v4), EnvSpec(BowlingNoFrameskip-v4), EnvSpec(Bowling-ram-v0), EnvSpec(Bowling-ramDeterministic-v0), EnvSpec(Bowling-ramNoFrameskip-v0), EnvSpec(Bowling-ram-v4), EnvSpec(Bowling-ramDeterministic-v4), EnvSpec(Bowling-ramNoFrameskip-v4), EnvSpec(Boxing-v0), EnvSpec(BoxingDeterministic-v0), EnvSpec(BoxingNoFrameskip-v0), EnvSpec(Boxing-v4), EnvSpec(BoxingDeterministic-v4), EnvSpec(BoxingNoFrameskip-v4), EnvSpec(Boxing-ram-v0), EnvSpec(Boxing-ramDeterministic-v0), EnvSpec(Boxing-ramNoFrameskip-v0), EnvSpec(Boxing-ram-v4), EnvSpec(Boxing-ramDeterministic-v4), EnvSpec(Boxing-ramNoFrameskip-v4), EnvSpec(Breakout-v0), EnvSpec(BreakoutDeterministic-v0), EnvSpec(BreakoutNoFrameskip-v0), EnvSpec(Breakout-v4), EnvSpec(BreakoutDeterministic-v4), EnvSpec(BreakoutNoFrameskip-v4), EnvSpec(Breakout-ram-v0), EnvSpec(Breakout-ramDeterministic-v0), EnvSpec(Breakout-ramNoFrameskip-v0), EnvSpec(Breakout-ram-v4), EnvSpec(Breakout-ramDeterministic-v4), EnvSpec(Breakout-ramNoFrameskip-v4), EnvSpec(Carnival-v0), EnvSpec(CarnivalDeterministic-v0), EnvSpec(CarnivalNoFrameskip-v0), EnvSpec(Carnival-v4), EnvSpec(CarnivalDeterministic-v4), EnvSpec(CarnivalNoFrameskip-v4), EnvSpec(Carnival-ram-v0), EnvSpec(Carnival-ramDeterministic-v0), EnvSpec(Carnival-ramNoFrameskip-v0), EnvSpec(Carnival-ram-v4), EnvSpec(Carnival-ramDeterministic-v4), EnvSpec(Carnival-ramNoFrameskip-v4), EnvSpec(Centipede-v0), EnvSpec(CentipedeDeterministic-v0), EnvSpec(CentipedeNoFrameskip-v0), EnvSpec(Centipede-v4), EnvSpec(CentipedeDeterministic-v4), EnvSpec(CentipedeNoFrameskip-v4), EnvSpec(Centipede-ram-v0), EnvSpec(Centipede-ramDeterministic-v0), EnvSpec(Centipede-ramNoFrameskip-v0), EnvSpec(Centipede-ram-v4), EnvSpec(Centipede-ramDeterministic-v4), EnvSpec(Centipede-ramNoFrameskip-v4), EnvSpec(ChopperCommand-v0), EnvSpec(ChopperCommandDeterministic-v0), EnvSpec(ChopperCommandNoFrameskip-v0), EnvSpec(ChopperCommand-v4), EnvSpec(ChopperCommandDeterministic-v4), EnvSpec(ChopperCommandNoFrameskip-v4), EnvSpec(ChopperCommand-ram-v0), EnvSpec(ChopperCommand-ramDeterministic-v0), EnvSpec(ChopperCommand-ramNoFrameskip-v0), EnvSpec(ChopperCommand-ram-v4), EnvSpec(ChopperCommand-ramDeterministic-v4), EnvSpec(ChopperCommand-ramNoFrameskip-v4), EnvSpec(CrazyClimber-v0), EnvSpec(CrazyClimberDeterministic-v0), EnvSpec(CrazyClimberNoFrameskip-v0), EnvSpec(CrazyClimber-v4), EnvSpec(CrazyClimberDeterministic-v4), EnvSpec(CrazyClimberNoFrameskip-v4), EnvSpec(CrazyClimber-ram-v0), EnvSpec(CrazyClimber-ramDeterministic-v0), EnvSpec(CrazyClimber-ramNoFrameskip-v0), EnvSpec(CrazyClimber-ram-v4), EnvSpec(CrazyClimber-ramDeterministic-v4), EnvSpec(CrazyClimber-ramNoFrameskip-v4), EnvSpec(Defender-v0), EnvSpec(DefenderDeterministic-v0), EnvSpec(DefenderNoFrameskip-v0), EnvSpec(Defender-v4), EnvSpec(DefenderDeterministic-v4), EnvSpec(DefenderNoFrameskip-v4), EnvSpec(Defender-ram-v0), EnvSpec(Defender-ramDeterministic-v0), EnvSpec(Defender-ramNoFrameskip-v0), EnvSpec(Defender-ram-v4), EnvSpec(Defender-ramDeterministic-v4), EnvSpec(Defender-ramNoFrameskip-v4), EnvSpec(DemonAttack-v0), EnvSpec(DemonAttackDeterministic-v0), EnvSpec(DemonAttackNoFrameskip-v0), EnvSpec(DemonAttack-v4), EnvSpec(DemonAttackDeterministic-v4), EnvSpec(DemonAttackNoFrameskip-v4), EnvSpec(DemonAttack-ram-v0), EnvSpec(DemonAttack-ramDeterministic-v0), EnvSpec(DemonAttack-ramNoFrameskip-v0), EnvSpec(DemonAttack-ram-v4), EnvSpec(DemonAttack-ramDeterministic-v4), EnvSpec(DemonAttack-ramNoFrameskip-v4), EnvSpec(DoubleDunk-v0), EnvSpec(DoubleDunkDeterministic-v0), EnvSpec(DoubleDunkNoFrameskip-v0), EnvSpec(DoubleDunk-v4), EnvSpec(DoubleDunkDeterministic-v4), EnvSpec(DoubleDunkNoFrameskip-v4), EnvSpec(DoubleDunk-ram-v0), EnvSpec(DoubleDunk-ramDeterministic-v0), EnvSpec(DoubleDunk-ramNoFrameskip-v0), EnvSpec(DoubleDunk-ram-v4), EnvSpec(DoubleDunk-ramDeterministic-v4), EnvSpec(DoubleDunk-ramNoFrameskip-v4), EnvSpec(ElevatorAction-v0), EnvSpec(ElevatorActionDeterministic-v0), EnvSpec(ElevatorActionNoFrameskip-v0), EnvSpec(ElevatorAction-v4), EnvSpec(ElevatorActionDeterministic-v4), EnvSpec(ElevatorActionNoFrameskip-v4), EnvSpec(ElevatorAction-ram-v0), EnvSpec(ElevatorAction-ramDeterministic-v0), EnvSpec(ElevatorAction-ramNoFrameskip-v0), EnvSpec(ElevatorAction-ram-v4), EnvSpec(ElevatorAction-ramDeterministic-v4), EnvSpec(ElevatorAction-ramNoFrameskip-v4), EnvSpec(Enduro-v0), EnvSpec(EnduroDeterministic-v0), EnvSpec(EnduroNoFrameskip-v0), EnvSpec(Enduro-v4), EnvSpec(EnduroDeterministic-v4), EnvSpec(EnduroNoFrameskip-v4), EnvSpec(Enduro-ram-v0), EnvSpec(Enduro-ramDeterministic-v0), EnvSpec(Enduro-ramNoFrameskip-v0), EnvSpec(Enduro-ram-v4), EnvSpec(Enduro-ramDeterministic-v4), EnvSpec(Enduro-ramNoFrameskip-v4), EnvSpec(FishingDerby-v0), EnvSpec(FishingDerbyDeterministic-v0), EnvSpec(FishingDerbyNoFrameskip-v0), EnvSpec(FishingDerby-v4), EnvSpec(FishingDerbyDeterministic-v4), EnvSpec(FishingDerbyNoFrameskip-v4), EnvSpec(FishingDerby-ram-v0), EnvSpec(FishingDerby-ramDeterministic-v0), EnvSpec(FishingDerby-ramNoFrameskip-v0), EnvSpec(FishingDerby-ram-v4), EnvSpec(FishingDerby-ramDeterministic-v4), EnvSpec(FishingDerby-ramNoFrameskip-v4), EnvSpec(Freeway-v0), EnvSpec(FreewayDeterministic-v0), EnvSpec(FreewayNoFrameskip-v0), EnvSpec(Freeway-v4), EnvSpec(FreewayDeterministic-v4), EnvSpec(FreewayNoFrameskip-v4), EnvSpec(Freeway-ram-v0), EnvSpec(Freeway-ramDeterministic-v0), EnvSpec(Freeway-ramNoFrameskip-v0), EnvSpec(Freeway-ram-v4), EnvSpec(Freeway-ramDeterministic-v4), EnvSpec(Freeway-ramNoFrameskip-v4), EnvSpec(Frostbite-v0), EnvSpec(FrostbiteDeterministic-v0), EnvSpec(FrostbiteNoFrameskip-v0), EnvSpec(Frostbite-v4), EnvSpec(FrostbiteDeterministic-v4), EnvSpec(FrostbiteNoFrameskip-v4), EnvSpec(Frostbite-ram-v0), EnvSpec(Frostbite-ramDeterministic-v0), EnvSpec(Frostbite-ramNoFrameskip-v0), EnvSpec(Frostbite-ram-v4), EnvSpec(Frostbite-ramDeterministic-v4), EnvSpec(Frostbite-ramNoFrameskip-v4), EnvSpec(Gopher-v0), EnvSpec(GopherDeterministic-v0), EnvSpec(GopherNoFrameskip-v0), EnvSpec(Gopher-v4), EnvSpec(GopherDeterministic-v4), EnvSpec(GopherNoFrameskip-v4), EnvSpec(Gopher-ram-v0), EnvSpec(Gopher-ramDeterministic-v0), EnvSpec(Gopher-ramNoFrameskip-v0), EnvSpec(Gopher-ram-v4), EnvSpec(Gopher-ramDeterministic-v4), EnvSpec(Gopher-ramNoFrameskip-v4), EnvSpec(Gravitar-v0), EnvSpec(GravitarDeterministic-v0), EnvSpec(GravitarNoFrameskip-v0), EnvSpec(Gravitar-v4), EnvSpec(GravitarDeterministic-v4), EnvSpec(GravitarNoFrameskip-v4), EnvSpec(Gravitar-ram-v0), EnvSpec(Gravitar-ramDeterministic-v0), EnvSpec(Gravitar-ramNoFrameskip-v0), EnvSpec(Gravitar-ram-v4), EnvSpec(Gravitar-ramDeterministic-v4), EnvSpec(Gravitar-ramNoFrameskip-v4), EnvSpec(Hero-v0), EnvSpec(HeroDeterministic-v0), EnvSpec(HeroNoFrameskip-v0), EnvSpec(Hero-v4), EnvSpec(HeroDeterministic-v4), EnvSpec(HeroNoFrameskip-v4), EnvSpec(Hero-ram-v0), EnvSpec(Hero-ramDeterministic-v0), EnvSpec(Hero-ramNoFrameskip-v0), EnvSpec(Hero-ram-v4), EnvSpec(Hero-ramDeterministic-v4), EnvSpec(Hero-ramNoFrameskip-v4), EnvSpec(IceHockey-v0), EnvSpec(IceHockeyDeterministic-v0), EnvSpec(IceHockeyNoFrameskip-v0), EnvSpec(IceHockey-v4), EnvSpec(IceHockeyDeterministic-v4), EnvSpec(IceHockeyNoFrameskip-v4), EnvSpec(IceHockey-ram-v0), EnvSpec(IceHockey-ramDeterministic-v0), EnvSpec(IceHockey-ramNoFrameskip-v0), EnvSpec(IceHockey-ram-v4), EnvSpec(IceHockey-ramDeterministic-v4), EnvSpec(IceHockey-ramNoFrameskip-v4), EnvSpec(Jamesbond-v0), EnvSpec(JamesbondDeterministic-v0), EnvSpec(JamesbondNoFrameskip-v0), EnvSpec(Jamesbond-v4), EnvSpec(JamesbondDeterministic-v4), EnvSpec(JamesbondNoFrameskip-v4), EnvSpec(Jamesbond-ram-v0), EnvSpec(Jamesbond-ramDeterministic-v0), EnvSpec(Jamesbond-ramNoFrameskip-v0), EnvSpec(Jamesbond-ram-v4), EnvSpec(Jamesbond-ramDeterministic-v4), EnvSpec(Jamesbond-ramNoFrameskip-v4), EnvSpec(JourneyEscape-v0), EnvSpec(JourneyEscapeDeterministic-v0), EnvSpec(JourneyEscapeNoFrameskip-v0), EnvSpec(JourneyEscape-v4), EnvSpec(JourneyEscapeDeterministic-v4), EnvSpec(JourneyEscapeNoFrameskip-v4), EnvSpec(JourneyEscape-ram-v0), EnvSpec(JourneyEscape-ramDeterministic-v0), EnvSpec(JourneyEscape-ramNoFrameskip-v0), EnvSpec(JourneyEscape-ram-v4), EnvSpec(JourneyEscape-ramDeterministic-v4), EnvSpec(JourneyEscape-ramNoFrameskip-v4), EnvSpec(Kangaroo-v0), EnvSpec(KangarooDeterministic-v0), EnvSpec(KangarooNoFrameskip-v0), EnvSpec(Kangaroo-v4), EnvSpec(KangarooDeterministic-v4), EnvSpec(KangarooNoFrameskip-v4), EnvSpec(Kangaroo-ram-v0), EnvSpec(Kangaroo-ramDeterministic-v0), EnvSpec(Kangaroo-ramNoFrameskip-v0), EnvSpec(Kangaroo-ram-v4), EnvSpec(Kangaroo-ramDeterministic-v4), EnvSpec(Kangaroo-ramNoFrameskip-v4), EnvSpec(Krull-v0), EnvSpec(KrullDeterministic-v0), EnvSpec(KrullNoFrameskip-v0), EnvSpec(Krull-v4), EnvSpec(KrullDeterministic-v4), EnvSpec(KrullNoFrameskip-v4), EnvSpec(Krull-ram-v0), EnvSpec(Krull-ramDeterministic-v0), EnvSpec(Krull-ramNoFrameskip-v0), EnvSpec(Krull-ram-v4), EnvSpec(Krull-ramDeterministic-v4), EnvSpec(Krull-ramNoFrameskip-v4), EnvSpec(KungFuMaster-v0), EnvSpec(KungFuMasterDeterministic-v0), EnvSpec(KungFuMasterNoFrameskip-v0), EnvSpec(KungFuMaster-v4), EnvSpec(KungFuMasterDeterministic-v4), EnvSpec(KungFuMasterNoFrameskip-v4), EnvSpec(KungFuMaster-ram-v0), EnvSpec(KungFuMaster-ramDeterministic-v0), EnvSpec(KungFuMaster-ramNoFrameskip-v0), EnvSpec(KungFuMaster-ram-v4), EnvSpec(KungFuMaster-ramDeterministic-v4), EnvSpec(KungFuMaster-ramNoFrameskip-v4), EnvSpec(MontezumaRevenge-v0), EnvSpec(MontezumaRevengeDeterministic-v0), EnvSpec(MontezumaRevengeNoFrameskip-v0), EnvSpec(MontezumaRevenge-v4), EnvSpec(MontezumaRevengeDeterministic-v4), EnvSpec(MontezumaRevengeNoFrameskip-v4), EnvSpec(MontezumaRevenge-ram-v0), EnvSpec(MontezumaRevenge-ramDeterministic-v0), EnvSpec(MontezumaRevenge-ramNoFrameskip-v0), EnvSpec(MontezumaRevenge-ram-v4), EnvSpec(MontezumaRevenge-ramDeterministic-v4), EnvSpec(MontezumaRevenge-ramNoFrameskip-v4), EnvSpec(MsPacman-v0), EnvSpec(MsPacmanDeterministic-v0), EnvSpec(MsPacmanNoFrameskip-v0), EnvSpec(MsPacman-v4), EnvSpec(MsPacmanDeterministic-v4), EnvSpec(MsPacmanNoFrameskip-v4), EnvSpec(MsPacman-ram-v0), EnvSpec(MsPacman-ramDeterministic-v0), EnvSpec(MsPacman-ramNoFrameskip-v0), EnvSpec(MsPacman-ram-v4), EnvSpec(MsPacman-ramDeterministic-v4), EnvSpec(MsPacman-ramNoFrameskip-v4), EnvSpec(NameThisGame-v0), EnvSpec(NameThisGameDeterministic-v0), EnvSpec(NameThisGameNoFrameskip-v0), EnvSpec(NameThisGame-v4), EnvSpec(NameThisGameDeterministic-v4), EnvSpec(NameThisGameNoFrameskip-v4), EnvSpec(NameThisGame-ram-v0), EnvSpec(NameThisGame-ramDeterministic-v0), EnvSpec(NameThisGame-ramNoFrameskip-v0), EnvSpec(NameThisGame-ram-v4), EnvSpec(NameThisGame-ramDeterministic-v4), EnvSpec(NameThisGame-ramNoFrameskip-v4), EnvSpec(Phoenix-v0), EnvSpec(PhoenixDeterministic-v0), EnvSpec(PhoenixNoFrameskip-v0), EnvSpec(Phoenix-v4), EnvSpec(PhoenixDeterministic-v4), EnvSpec(PhoenixNoFrameskip-v4), EnvSpec(Phoenix-ram-v0), EnvSpec(Phoenix-ramDeterministic-v0), EnvSpec(Phoenix-ramNoFrameskip-v0), EnvSpec(Phoenix-ram-v4), EnvSpec(Phoenix-ramDeterministic-v4), EnvSpec(Phoenix-ramNoFrameskip-v4), EnvSpec(Pitfall-v0), EnvSpec(PitfallDeterministic-v0), EnvSpec(PitfallNoFrameskip-v0), EnvSpec(Pitfall-v4), EnvSpec(PitfallDeterministic-v4), EnvSpec(PitfallNoFrameskip-v4), EnvSpec(Pitfall-ram-v0), EnvSpec(Pitfall-ramDeterministic-v0), EnvSpec(Pitfall-ramNoFrameskip-v0), EnvSpec(Pitfall-ram-v4), EnvSpec(Pitfall-ramDeterministic-v4), EnvSpec(Pitfall-ramNoFrameskip-v4), EnvSpec(Pong-v0), EnvSpec(PongDeterministic-v0), EnvSpec(PongNoFrameskip-v0), EnvSpec(Pong-v4), EnvSpec(PongDeterministic-v4), EnvSpec(PongNoFrameskip-v4), EnvSpec(Pong-ram-v0), EnvSpec(Pong-ramDeterministic-v0), EnvSpec(Pong-ramNoFrameskip-v0), EnvSpec(Pong-ram-v4), EnvSpec(Pong-ramDeterministic-v4), EnvSpec(Pong-ramNoFrameskip-v4), EnvSpec(Pooyan-v0), EnvSpec(PooyanDeterministic-v0), EnvSpec(PooyanNoFrameskip-v0), EnvSpec(Pooyan-v4), EnvSpec(PooyanDeterministic-v4), EnvSpec(PooyanNoFrameskip-v4), EnvSpec(Pooyan-ram-v0), EnvSpec(Pooyan-ramDeterministic-v0), EnvSpec(Pooyan-ramNoFrameskip-v0), EnvSpec(Pooyan-ram-v4), EnvSpec(Pooyan-ramDeterministic-v4), EnvSpec(Pooyan-ramNoFrameskip-v4), EnvSpec(PrivateEye-v0), EnvSpec(PrivateEyeDeterministic-v0), EnvSpec(PrivateEyeNoFrameskip-v0), EnvSpec(PrivateEye-v4), EnvSpec(PrivateEyeDeterministic-v4), EnvSpec(PrivateEyeNoFrameskip-v4), EnvSpec(PrivateEye-ram-v0), EnvSpec(PrivateEye-ramDeterministic-v0), EnvSpec(PrivateEye-ramNoFrameskip-v0), EnvSpec(PrivateEye-ram-v4), EnvSpec(PrivateEye-ramDeterministic-v4), EnvSpec(PrivateEye-ramNoFrameskip-v4), EnvSpec(Qbert-v0), EnvSpec(QbertDeterministic-v0), EnvSpec(QbertNoFrameskip-v0), EnvSpec(Qbert-v4), EnvSpec(QbertDeterministic-v4), EnvSpec(QbertNoFrameskip-v4), EnvSpec(Qbert-ram-v0), EnvSpec(Qbert-ramDeterministic-v0), EnvSpec(Qbert-ramNoFrameskip-v0), EnvSpec(Qbert-ram-v4), EnvSpec(Qbert-ramDeterministic-v4), EnvSpec(Qbert-ramNoFrameskip-v4), EnvSpec(Riverraid-v0), EnvSpec(RiverraidDeterministic-v0), EnvSpec(RiverraidNoFrameskip-v0), EnvSpec(Riverraid-v4), EnvSpec(RiverraidDeterministic-v4), EnvSpec(RiverraidNoFrameskip-v4), EnvSpec(Riverraid-ram-v0), EnvSpec(Riverraid-ramDeterministic-v0), EnvSpec(Riverraid-ramNoFrameskip-v0), EnvSpec(Riverraid-ram-v4), EnvSpec(Riverraid-ramDeterministic-v4), EnvSpec(Riverraid-ramNoFrameskip-v4), EnvSpec(RoadRunner-v0), EnvSpec(RoadRunnerDeterministic-v0), EnvSpec(RoadRunnerNoFrameskip-v0), EnvSpec(RoadRunner-v4), EnvSpec(RoadRunnerDeterministic-v4), EnvSpec(RoadRunnerNoFrameskip-v4), EnvSpec(RoadRunner-ram-v0), EnvSpec(RoadRunner-ramDeterministic-v0), EnvSpec(RoadRunner-ramNoFrameskip-v0), EnvSpec(RoadRunner-ram-v4), EnvSpec(RoadRunner-ramDeterministic-v4), EnvSpec(RoadRunner-ramNoFrameskip-v4), EnvSpec(Robotank-v0), EnvSpec(RobotankDeterministic-v0), EnvSpec(RobotankNoFrameskip-v0), EnvSpec(Robotank-v4), EnvSpec(RobotankDeterministic-v4), EnvSpec(RobotankNoFrameskip-v4), EnvSpec(Robotank-ram-v0), EnvSpec(Robotank-ramDeterministic-v0), EnvSpec(Robotank-ramNoFrameskip-v0), EnvSpec(Robotank-ram-v4), EnvSpec(Robotank-ramDeterministic-v4), EnvSpec(Robotank-ramNoFrameskip-v4), EnvSpec(Seaquest-v0), EnvSpec(SeaquestDeterministic-v0), EnvSpec(SeaquestNoFrameskip-v0), EnvSpec(Seaquest-v4), EnvSpec(SeaquestDeterministic-v4), EnvSpec(SeaquestNoFrameskip-v4), EnvSpec(Seaquest-ram-v0), EnvSpec(Seaquest-ramDeterministic-v0), EnvSpec(Seaquest-ramNoFrameskip-v0), EnvSpec(Seaquest-ram-v4), EnvSpec(Seaquest-ramDeterministic-v4), EnvSpec(Seaquest-ramNoFrameskip-v4), EnvSpec(Skiing-v0), EnvSpec(SkiingDeterministic-v0), EnvSpec(SkiingNoFrameskip-v0), EnvSpec(Skiing-v4), EnvSpec(SkiingDeterministic-v4), EnvSpec(SkiingNoFrameskip-v4), EnvSpec(Skiing-ram-v0), EnvSpec(Skiing-ramDeterministic-v0), EnvSpec(Skiing-ramNoFrameskip-v0), EnvSpec(Skiing-ram-v4), EnvSpec(Skiing-ramDeterministic-v4), EnvSpec(Skiing-ramNoFrameskip-v4), EnvSpec(Solaris-v0), EnvSpec(SolarisDeterministic-v0), EnvSpec(SolarisNoFrameskip-v0), EnvSpec(Solaris-v4), EnvSpec(SolarisDeterministic-v4), EnvSpec(SolarisNoFrameskip-v4), EnvSpec(Solaris-ram-v0), EnvSpec(Solaris-ramDeterministic-v0), EnvSpec(Solaris-ramNoFrameskip-v0), EnvSpec(Solaris-ram-v4), EnvSpec(Solaris-ramDeterministic-v4), EnvSpec(Solaris-ramNoFrameskip-v4), EnvSpec(SpaceInvaders-v0), EnvSpec(SpaceInvadersDeterministic-v0), EnvSpec(SpaceInvadersNoFrameskip-v0), EnvSpec(SpaceInvaders-v4), EnvSpec(SpaceInvadersDeterministic-v4), EnvSpec(SpaceInvadersNoFrameskip-v4), EnvSpec(SpaceInvaders-ram-v0), EnvSpec(SpaceInvaders-ramDeterministic-v0), EnvSpec(SpaceInvaders-ramNoFrameskip-v0), EnvSpec(SpaceInvaders-ram-v4), EnvSpec(SpaceInvaders-ramDeterministic-v4), EnvSpec(SpaceInvaders-ramNoFrameskip-v4), EnvSpec(StarGunner-v0), EnvSpec(StarGunnerDeterministic-v0), EnvSpec(StarGunnerNoFrameskip-v0), EnvSpec(StarGunner-v4), EnvSpec(StarGunnerDeterministic-v4), EnvSpec(StarGunnerNoFrameskip-v4), EnvSpec(StarGunner-ram-v0), EnvSpec(StarGunner-ramDeterministic-v0), EnvSpec(StarGunner-ramNoFrameskip-v0), EnvSpec(StarGunner-ram-v4), EnvSpec(StarGunner-ramDeterministic-v4), EnvSpec(StarGunner-ramNoFrameskip-v4), EnvSpec(Tennis-v0), EnvSpec(TennisDeterministic-v0), EnvSpec(TennisNoFrameskip-v0), EnvSpec(Tennis-v4), EnvSpec(TennisDeterministic-v4), EnvSpec(TennisNoFrameskip-v4), EnvSpec(Tennis-ram-v0), EnvSpec(Tennis-ramDeterministic-v0), EnvSpec(Tennis-ramNoFrameskip-v0), EnvSpec(Tennis-ram-v4), EnvSpec(Tennis-ramDeterministic-v4), EnvSpec(Tennis-ramNoFrameskip-v4), EnvSpec(TimePilot-v0), EnvSpec(TimePilotDeterministic-v0), EnvSpec(TimePilotNoFrameskip-v0), EnvSpec(TimePilot-v4), EnvSpec(TimePilotDeterministic-v4), EnvSpec(TimePilotNoFrameskip-v4), EnvSpec(TimePilot-ram-v0), EnvSpec(TimePilot-ramDeterministic-v0), EnvSpec(TimePilot-ramNoFrameskip-v0), EnvSpec(TimePilot-ram-v4), EnvSpec(TimePilot-ramDeterministic-v4), EnvSpec(TimePilot-ramNoFrameskip-v4), EnvSpec(Tutankham-v0), EnvSpec(TutankhamDeterministic-v0), EnvSpec(TutankhamNoFrameskip-v0), EnvSpec(Tutankham-v4), EnvSpec(TutankhamDeterministic-v4), EnvSpec(TutankhamNoFrameskip-v4), EnvSpec(Tutankham-ram-v0), EnvSpec(Tutankham-ramDeterministic-v0), EnvSpec(Tutankham-ramNoFrameskip-v0), EnvSpec(Tutankham-ram-v4), EnvSpec(Tutankham-ramDeterministic-v4), EnvSpec(Tutankham-ramNoFrameskip-v4), EnvSpec(UpNDown-v0), EnvSpec(UpNDownDeterministic-v0), EnvSpec(UpNDownNoFrameskip-v0), EnvSpec(UpNDown-v4), EnvSpec(UpNDownDeterministic-v4), EnvSpec(UpNDownNoFrameskip-v4), EnvSpec(UpNDown-ram-v0), EnvSpec(UpNDown-ramDeterministic-v0), EnvSpec(UpNDown-ramNoFrameskip-v0), EnvSpec(UpNDown-ram-v4), EnvSpec(UpNDown-ramDeterministic-v4), EnvSpec(UpNDown-ramNoFrameskip-v4), EnvSpec(Venture-v0), EnvSpec(VentureDeterministic-v0), EnvSpec(VentureNoFrameskip-v0), EnvSpec(Venture-v4), EnvSpec(VentureDeterministic-v4), EnvSpec(VentureNoFrameskip-v4), EnvSpec(Venture-ram-v0), EnvSpec(Venture-ramDeterministic-v0), EnvSpec(Venture-ramNoFrameskip-v0), EnvSpec(Venture-ram-v4), EnvSpec(Venture-ramDeterministic-v4), EnvSpec(Venture-ramNoFrameskip-v4), EnvSpec(VideoPinball-v0), EnvSpec(VideoPinballDeterministic-v0), EnvSpec(VideoPinballNoFrameskip-v0), EnvSpec(VideoPinball-v4), EnvSpec(VideoPinballDeterministic-v4), EnvSpec(VideoPinballNoFrameskip-v4), EnvSpec(VideoPinball-ram-v0), EnvSpec(VideoPinball-ramDeterministic-v0), EnvSpec(VideoPinball-ramNoFrameskip-v0), EnvSpec(VideoPinball-ram-v4), EnvSpec(VideoPinball-ramDeterministic-v4), EnvSpec(VideoPinball-ramNoFrameskip-v4), EnvSpec(WizardOfWor-v0), EnvSpec(WizardOfWorDeterministic-v0), EnvSpec(WizardOfWorNoFrameskip-v0), EnvSpec(WizardOfWor-v4), EnvSpec(WizardOfWorDeterministic-v4), EnvSpec(WizardOfWorNoFrameskip-v4), EnvSpec(WizardOfWor-ram-v0), EnvSpec(WizardOfWor-ramDeterministic-v0), EnvSpec(WizardOfWor-ramNoFrameskip-v0), EnvSpec(WizardOfWor-ram-v4), EnvSpec(WizardOfWor-ramDeterministic-v4), EnvSpec(WizardOfWor-ramNoFrameskip-v4), EnvSpec(YarsRevenge-v0), EnvSpec(YarsRevengeDeterministic-v0), EnvSpec(YarsRevengeNoFrameskip-v0), EnvSpec(YarsRevenge-v4), EnvSpec(YarsRevengeDeterministic-v4), EnvSpec(YarsRevengeNoFrameskip-v4), EnvSpec(YarsRevenge-ram-v0), EnvSpec(YarsRevenge-ramDeterministic-v0), EnvSpec(YarsRevenge-ramNoFrameskip-v0), EnvSpec(YarsRevenge-ram-v4), EnvSpec(YarsRevenge-ramDeterministic-v4), EnvSpec(YarsRevenge-ramNoFrameskip-v4), EnvSpec(Zaxxon-v0), EnvSpec(ZaxxonDeterministic-v0), EnvSpec(ZaxxonNoFrameskip-v0), EnvSpec(Zaxxon-v4), EnvSpec(ZaxxonDeterministic-v4), EnvSpec(ZaxxonNoFrameskip-v4), EnvSpec(Zaxxon-ram-v0), EnvSpec(Zaxxon-ramDeterministic-v0), EnvSpec(Zaxxon-ramNoFrameskip-v0), EnvSpec(Zaxxon-ram-v4), EnvSpec(Zaxxon-ramDeterministic-v4), EnvSpec(Zaxxon-ramNoFrameskip-v4), EnvSpec(CartPole-v0), EnvSpec(CartPole-v1), EnvSpec(MountainCar-v0), EnvSpec(MountainCarContinuous-v0), EnvSpec(Pendulum-v1), EnvSpec(Acrobot-v1), EnvSpec(LunarLander-v2), EnvSpec(LunarLanderContinuous-v2), EnvSpec(BipedalWalker-v3), EnvSpec(BipedalWalkerHardcore-v3), EnvSpec(CarRacing-v0), EnvSpec(Blackjack-v1), EnvSpec(FrozenLake-v1), EnvSpec(FrozenLake8x8-v1), EnvSpec(CliffWalking-v0), EnvSpec(Taxi-v3), EnvSpec(Reacher-v2), EnvSpec(Pusher-v2), EnvSpec(Thrower-v2), EnvSpec(Striker-v2), EnvSpec(InvertedPendulum-v2), EnvSpec(InvertedDoublePendulum-v2), EnvSpec(HalfCheetah-v2), EnvSpec(HalfCheetah-v3), EnvSpec(Hopper-v2), EnvSpec(Hopper-v3), EnvSpec(Swimmer-v2), EnvSpec(Swimmer-v3), EnvSpec(Walker2d-v2), EnvSpec(Walker2d-v3), EnvSpec(Ant-v2), EnvSpec(Ant-v3), EnvSpec(Humanoid-v2), EnvSpec(Humanoid-v3), EnvSpec(HumanoidStandup-v2), EnvSpec(FetchSlide-v1), EnvSpec(FetchPickAndPlace-v1), EnvSpec(FetchReach-v1), EnvSpec(FetchPush-v1), EnvSpec(HandReach-v0), EnvSpec(HandManipulateBlockRotateZ-v0), EnvSpec(HandManipulateBlockRotateZTouchSensors-v0), EnvSpec(HandManipulateBlockRotateZTouchSensors-v1), EnvSpec(HandManipulateBlockRotateParallel-v0), EnvSpec(HandManipulateBlockRotateParallelTouchSensors-v0), EnvSpec(HandManipulateBlockRotateParallelTouchSensors-v1), EnvSpec(HandManipulateBlockRotateXYZ-v0), EnvSpec(HandManipulateBlockRotateXYZTouchSensors-v0), EnvSpec(HandManipulateBlockRotateXYZTouchSensors-v1), EnvSpec(HandManipulateBlockFull-v0), EnvSpec(HandManipulateBlock-v0), EnvSpec(HandManipulateBlockTouchSensors-v0), EnvSpec(HandManipulateBlockTouchSensors-v1), EnvSpec(HandManipulateEggRotate-v0), EnvSpec(HandManipulateEggRotateTouchSensors-v0), EnvSpec(HandManipulateEggRotateTouchSensors-v1), EnvSpec(HandManipulateEggFull-v0), EnvSpec(HandManipulateEgg-v0), EnvSpec(HandManipulateEggTouchSensors-v0), EnvSpec(HandManipulateEggTouchSensors-v1), EnvSpec(HandManipulatePenRotate-v0), EnvSpec(HandManipulatePenRotateTouchSensors-v0), EnvSpec(HandManipulatePenRotateTouchSensors-v1), EnvSpec(HandManipulatePenFull-v0), EnvSpec(HandManipulatePen-v0), EnvSpec(HandManipulatePenTouchSensors-v0), EnvSpec(HandManipulatePenTouchSensors-v1), EnvSpec(FetchSlideDense-v1), EnvSpec(FetchPickAndPlaceDense-v1), EnvSpec(FetchReachDense-v1), EnvSpec(FetchPushDense-v1), EnvSpec(HandReachDense-v0), EnvSpec(HandManipulateBlockRotateZDense-v0), EnvSpec(HandManipulateBlockRotateZTouchSensorsDense-v0), EnvSpec(HandManipulateBlockRotateZTouchSensorsDense-v1), EnvSpec(HandManipulateBlockRotateParallelDense-v0), EnvSpec(HandManipulateBlockRotateParallelTouchSensorsDense-v0), EnvSpec(HandManipulateBlockRotateParallelTouchSensorsDense-v1), EnvSpec(HandManipulateBlockRotateXYZDense-v0), EnvSpec(HandManipulateBlockRotateXYZTouchSensorsDense-v0), EnvSpec(HandManipulateBlockRotateXYZTouchSensorsDense-v1), EnvSpec(HandManipulateBlockFullDense-v0), EnvSpec(HandManipulateBlockDense-v0), EnvSpec(HandManipulateBlockTouchSensorsDense-v0), EnvSpec(HandManipulateBlockTouchSensorsDense-v1), EnvSpec(HandManipulateEggRotateDense-v0), EnvSpec(HandManipulateEggRotateTouchSensorsDense-v0), EnvSpec(HandManipulateEggRotateTouchSensorsDense-v1), EnvSpec(HandManipulateEggFullDense-v0), EnvSpec(HandManipulateEggDense-v0), EnvSpec(HandManipulateEggTouchSensorsDense-v0), EnvSpec(HandManipulateEggTouchSensorsDense-v1), EnvSpec(HandManipulatePenRotateDense-v0), EnvSpec(HandManipulatePenRotateTouchSensorsDense-v0), EnvSpec(HandManipulatePenRotateTouchSensorsDense-v1), EnvSpec(HandManipulatePenFullDense-v0), EnvSpec(HandManipulatePenDense-v0), EnvSpec(HandManipulatePenTouchSensorsDense-v0), EnvSpec(HandManipulatePenTouchSensorsDense-v1), EnvSpec(CubeCrash-v0), EnvSpec(CubeCrashSparse-v0), EnvSpec(CubeCrashScreenBecomesBlack-v0), EnvSpec(MemorizeDigits-v0)])\n"
     ]
    }
   ],
   "source": [
    "from gym import envs\n",
    "print(envs.registry.all())"
   ]
  }
 ],
 "metadata": {
  "interpreter": {
   "hash": "5adc5aab20541bd8b5410acf2349b6e18eb9965dd50ecbb79ce0799ce072fe1a"
  },
  "kernelspec": {
   "display_name": "Python 3.7.3 64-bit ('rl-project': conda)",
   "name": "python3"
  },
  "language_info": {
   "codemirror_mode": {
    "name": "ipython",
    "version": 3
   },
   "file_extension": ".py",
   "mimetype": "text/x-python",
   "name": "python",
   "nbconvert_exporter": "python",
   "pygments_lexer": "ipython3",
   "version": "3.7.3"
  },
  "orig_nbformat": 4
 },
 "nbformat": 4,
 "nbformat_minor": 2
}

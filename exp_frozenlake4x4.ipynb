{
 "cells": [
  {
   "cell_type": "code",
   "execution_count": null,
   "metadata": {},
   "outputs": [],
   "source": [
    "# from Games.FrozenLake import FrozenLakeEnv\n",
    "from Helper.experiment import experiment\n",
    "from Games.FrozenLake import FrozenLakeEnv"
   ]
  },
  {
   "cell_type": "code",
   "execution_count": null,
   "metadata": {},
   "outputs": [],
   "source": [
    "discrete_env = FrozenLakeEnv()\n",
    "seeds = [1, 2] #Defaults to [0-9]\n",
    "\n",
    "params = {\n",
    "'epsilon': 0.001, #Defaults to  0.1\n",
    "'num_episodes': 100, #Defaults to 1000\n",
    "'discount_factor': 1, #Defaults to 1.0\n",
    "'alpha': 0.8 #Defaults to 0.1\n",
    "}\n",
    "\n",
    "experiment('Discrete', discrete_env,  params, seeds)\n",
    "\n",
    "    "
   ]
  },
  {
   "cell_type": "code",
   "execution_count": null,
   "metadata": {},
   "outputs": [],
   "source": [
    "seeds = [0]\n",
    "epsilons = [0.1, 0.01, 0.001]\n",
    "num_episodeses = [2000] # I guess you just make this higher, no need to grid search\n",
    "discount_factors = [0.7, 0.85, 1.0]\n",
    "alphas = [0.1, 0.05, 0.01]\n",
    "\n",
    "def grid_search(env_name, env, epsilons, num_episodeses, discount_factors, alphas, seeds=None, default_dir='Results'):\n",
    "    params = {}\n",
    "    for epsilon in epsilons:\n",
    "        params['epsilon'] = epsilon\n",
    "        for num_episodes in num_episodeses:\n",
    "            params['num_episodes'] = num_episodes\n",
    "            for discount_factor in discount_factors:\n",
    "                params['discount_factor'] = discount_factor\n",
    "                for alpha in alphas:\n",
    "                    params['alpha'] = alpha\n",
    "                    print(params)\n",
    "                    experiment(env_name, env, params, seeds=seeds, default_dir=default_dir)\n",
    "# grid_search(\"FrozenLakeEnv\", discrete_env, epsilons, num_episodeses, discount_factors, alphas, seeds=seeds)"
   ]
  },
  {
   "cell_type": "code",
   "execution_count": null,
   "metadata": {},
   "outputs": [],
   "source": []
  },
  {
   "cell_type": "code",
   "execution_count": null,
   "metadata": {},
   "outputs": [],
   "source": [
    "stochastic_env = FrozenLakeEnv(stochastic=True)\n",
    "experiment('Stochastic', stochastic_env,  params, seeds)"
   ]
  }
 ],
 "metadata": {
  "interpreter": {
   "hash": "5adc5aab20541bd8b5410acf2349b6e18eb9965dd50ecbb79ce0799ce072fe1a"
  },
  "kernelspec": {
   "display_name": "Python 3.7.3 64-bit ('rl-project': conda)",
   "name": "python3"
  },
  "language_info": {
   "codemirror_mode": {
    "name": "ipython",
    "version": 3
   },
   "file_extension": ".py",
   "mimetype": "text/x-python",
   "name": "python",
   "nbconvert_exporter": "python",
   "pygments_lexer": "ipython3",
   "version": "3.7.3"
  },
  "orig_nbformat": 4
 },
 "nbformat": 4,
 "nbformat_minor": 2
}
